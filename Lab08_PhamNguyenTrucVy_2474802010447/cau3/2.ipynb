{
 "cells": [
  {
   "cell_type": "code",
   "execution_count": 1,
   "metadata": {},
   "outputs": [
    {
     "name": "stdout",
     "output_type": "stream",
     "text": [
      "Nghiệm S, T: {S: -5, T: 3}\n",
      "f(v) =  Matrix([[7], [1], [-7]])\n"
     ]
    }
   ],
   "source": [
    "import sympy as sp\n",
    "import numpy as np\n",
    "\n",
    "S, T = sp.symbols('S T')\n",
    "\n",
    "v1 = sp.Matrix([1, 2])\n",
    "v2 = sp.Matrix([3, 5])\n",
    "v = sp.Matrix([4, 5])\n",
    "\n",
    "eq1 = sp.Eq(S*v1[0] + T*v2[0], v[0])\n",
    "eq2 = sp.Eq(S*v1[1] + T*v2[1], v[1])\n",
    "\n",
    "sol = sp.solve([eq1, eq2], (S, T))\n",
    "print(\"Nghiệm S, T:\", sol)\n",
    "\n",
    "f_v1 = sp.Matrix([1,1,2])\n",
    "f_v2 = sp.Matrix([4,2,1])\n",
    "\n",
    "f_v = sol[S]*f_v1 + sol[T]*f_v2\n",
    "print(\"f(v) = \", f_v)\n"
   ]
  }
 ],
 "metadata": {
  "kernelspec": {
   "display_name": "Python 3",
   "language": "python",
   "name": "python3"
  },
  "language_info": {
   "codemirror_mode": {
    "name": "ipython",
    "version": 3
   },
   "file_extension": ".py",
   "mimetype": "text/x-python",
   "name": "python",
   "nbconvert_exporter": "python",
   "pygments_lexer": "ipython3",
   "version": "3.8.5"
  },
  "orig_nbformat": 4,
  "vscode": {
   "interpreter": {
    "hash": "9650cb4e16cdd4a8e8e2d128bf38d875813998db22a3c986335f89e0cb4d7bb2"
   }
  }
 },
 "nbformat": 4,
 "nbformat_minor": 2
}
