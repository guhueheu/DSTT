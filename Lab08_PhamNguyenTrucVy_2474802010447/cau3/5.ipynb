{
 "cells": [
  {
   "cell_type": "code",
   "execution_count": 1,
   "metadata": {},
   "outputs": [
    {
     "name": "stdout",
     "output_type": "stream",
     "text": [
      "Cơ sở ảnh của f:\n",
      "[[ 0.82241061 -0.42246833]\n",
      " [ 0.45138983  0.0769717 ]\n",
      " [ 0.34624848  0.90310346]]\n"
     ]
    }
   ],
   "source": [
    "import numpy as np\n",
    "\n",
    "f_v1 = np.array([1, 1, 2])\n",
    "f_v2 = np.array([4, 2, 1])\n",
    "\n",
    "from scipy.linalg import orth\n",
    "\n",
    "A = np.column_stack((f_v1, f_v2))\n",
    "\n",
    "img_basis = orth(A)\n",
    "\n",
    "print(\"Cơ sở ảnh của f:\")\n",
    "print(img_basis)\n"
   ]
  }
 ],
 "metadata": {
  "kernelspec": {
   "display_name": "Python 3",
   "language": "python",
   "name": "python3"
  },
  "language_info": {
   "codemirror_mode": {
    "name": "ipython",
    "version": 3
   },
   "file_extension": ".py",
   "mimetype": "text/x-python",
   "name": "python",
   "nbconvert_exporter": "python",
   "pygments_lexer": "ipython3",
   "version": "3.8.5"
  },
  "orig_nbformat": 4,
  "vscode": {
   "interpreter": {
    "hash": "9650cb4e16cdd4a8e8e2d128bf38d875813998db22a3c986335f89e0cb4d7bb2"
   }
  }
 },
 "nbformat": 4,
 "nbformat_minor": 2
}
