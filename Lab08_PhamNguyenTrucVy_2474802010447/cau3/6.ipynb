{
 "cells": [
  {
   "cell_type": "code",
   "execution_count": 2,
   "metadata": {},
   "outputs": [
    {
     "name": "stdout",
     "output_type": "stream",
     "text": [
      "f(v1) = Matrix([[-2], [-1]])\n",
      "f(v2) = Matrix([[1], [1]])\n",
      "Tọa độ f(v1) theo cơ sở F: {l1: -5, l2: 3}\n",
      "Tọa độ f(v2) theo cơ sở F: {l1: 2, l2: -1}\n",
      "Ma trận ánh xạ tuyến tính trong cặp cơ sở R -> F:\n",
      "⎡-5  2 ⎤\n",
      "⎢      ⎥\n",
      "⎣3   -1⎦\n"
     ]
    }
   ],
   "source": [
    "import sympy as sp\n",
    "\n",
    "# Khai báo biến ẩn\n",
    "l1, l2 = sp.symbols('l1 l2')\n",
    "\n",
    "v1 = sp.Matrix([-1, 1])\n",
    "v2 = sp.Matrix([1, 0])\n",
    "\n",
    "w1 = sp.Matrix([1, 2])\n",
    "w2 = sp.Matrix([1, 3])\n",
    "\n",
    "def f(vec):\n",
    "    x, y = vec\n",
    "    return sp.Matrix([x - y, x])\n",
    "\n",
    "fv1 = f(v1)\n",
    "fv2 = f(v2)\n",
    "\n",
    "print(\"f(v1) =\", fv1)\n",
    "print(\"f(v2) =\", fv2)\n",
    "\n",
    "eq1 = sp.Eq(l1*w1 + l2*w2, fv1)\n",
    "sol1 = sp.solve(eq1, (l1, l2))\n",
    "print(\"Tọa độ f(v1) theo cơ sở F:\", sol1)\n",
    "\n",
    "\n",
    "eq2 = sp.Eq(l1*w1 + l2*w2, fv2)\n",
    "sol2 = sp.solve(eq2, (l1, l2))\n",
    "print(\"Tọa độ f(v2) theo cơ sở F:\", sol2)\n",
    "\n",
    "M = sp.Matrix([[sol1[l1], sol2[l1]],\n",
    "               [sol1[l2], sol2[l2]]])\n",
    "\n",
    "print(\"Ma trận ánh xạ tuyến tính trong cặp cơ sở R -> F:\")\n",
    "sp.pprint(M)\n",
    "\n"
   ]
  }
 ],
 "metadata": {
  "kernelspec": {
   "display_name": "Python 3",
   "language": "python",
   "name": "python3"
  },
  "language_info": {
   "codemirror_mode": {
    "name": "ipython",
    "version": 3
   },
   "file_extension": ".py",
   "mimetype": "text/x-python",
   "name": "python",
   "nbconvert_exporter": "python",
   "pygments_lexer": "ipython3",
   "version": "3.8.5"
  },
  "orig_nbformat": 4,
  "vscode": {
   "interpreter": {
    "hash": "9650cb4e16cdd4a8e8e2d128bf38d875813998db22a3c986335f89e0cb4d7bb2"
   }
  }
 },
 "nbformat": 4,
 "nbformat_minor": 2
}
