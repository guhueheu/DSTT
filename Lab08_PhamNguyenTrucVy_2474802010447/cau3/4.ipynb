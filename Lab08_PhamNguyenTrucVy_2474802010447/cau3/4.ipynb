{
 "cells": [
  {
   "cell_type": "code",
   "execution_count": 1,
   "metadata": {},
   "outputs": [
    {
     "name": "stdout",
     "output_type": "stream",
     "text": [
      "Nghiệm không tầm thường Ker(f):\n",
      "{x1: 2*x3, x2: -x3}\n"
     ]
    }
   ],
   "source": [
    "import sympy as sp\n",
    "\n",
    "x1, x2, x3 = sp.symbols('x1 x2 x3')\n",
    "\n",
    "eq1 = x1 + x2 - x3\n",
    "eq2 = 2*x1 + 3*x2 - x3\n",
    "eq3 = 3*x1 + 5*x2 - x3\n",
    "\n",
    "sol = sp.solve([eq1, eq2, eq3], (x1, x2, x3))\n",
    "print(\"Nghiệm không tầm thường Ker(f):\")\n",
    "print(sol)\n"
   ]
  }
 ],
 "metadata": {
  "kernelspec": {
   "display_name": "Python 3",
   "language": "python",
   "name": "python3"
  },
  "language_info": {
   "codemirror_mode": {
    "name": "ipython",
    "version": 3
   },
   "file_extension": ".py",
   "mimetype": "text/x-python",
   "name": "python",
   "nbconvert_exporter": "python",
   "pygments_lexer": "ipython3",
   "version": "3.8.5"
  },
  "orig_nbformat": 4,
  "vscode": {
   "interpreter": {
    "hash": "9650cb4e16cdd4a8e8e2d128bf38d875813998db22a3c986335f89e0cb4d7bb2"
   }
  }
 },
 "nbformat": 4,
 "nbformat_minor": 2
}
