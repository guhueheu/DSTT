{
 "cells": [
  {
   "cell_type": "code",
   "execution_count": 1,
   "metadata": {},
   "outputs": [
    {
     "name": "stdout",
     "output_type": "stream",
     "text": [
      "Nghiệm S, T (a,b): {a: -5*x + 3*y, b: 2*x - y}\n",
      "Biểu thức ánh xạ f(v):\n",
      "⎡ 3⋅x - y  ⎤\n",
      "⎢          ⎥\n",
      "⎢  -x + y  ⎥\n",
      "⎢          ⎥\n",
      "⎣-8⋅x + 5⋅y⎦\n"
     ]
    }
   ],
   "source": [
    "import sympy as sp\n",
    "\n",
    "a, b = sp.symbols('a b') \n",
    "x, y = sp.symbols('x y') \n",
    "\n",
    "v1 = sp.Matrix([1, 2])\n",
    "v2 = sp.Matrix([3, 5])\n",
    "\n",
    "sol = sp.solve([a*v1[0] + b*v2[0] - x, a*v1[1] + b*v2[1] - y], (a,b))\n",
    "print(\"Nghiệm S, T (a,b):\", sol)\n",
    "\n",
    "fu1 = sp.Matrix([1,1,2])\n",
    "fu2 = sp.Matrix([4,2,1])\n",
    "\n",
    "fu = sol[a]*fu1 + sol[b]*fu2\n",
    "print(\"Biểu thức ánh xạ f(v):\")\n",
    "sp.pprint(fu)\n"
   ]
  }
 ],
 "metadata": {
  "kernelspec": {
   "display_name": "Python 3",
   "language": "python",
   "name": "python3"
  },
  "language_info": {
   "codemirror_mode": {
    "name": "ipython",
    "version": 3
   },
   "file_extension": ".py",
   "mimetype": "text/x-python",
   "name": "python",
   "nbconvert_exporter": "python",
   "pygments_lexer": "ipython3",
   "version": "3.8.5"
  },
  "orig_nbformat": 4,
  "vscode": {
   "interpreter": {
    "hash": "9650cb4e16cdd4a8e8e2d128bf38d875813998db22a3c986335f89e0cb4d7bb2"
   }
  }
 },
 "nbformat": 4,
 "nbformat_minor": 2
}
