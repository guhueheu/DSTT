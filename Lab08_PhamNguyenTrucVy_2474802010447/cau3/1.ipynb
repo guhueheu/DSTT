{
 "cells": [
  {
   "cell_type": "code",
   "execution_count": 1,
   "metadata": {},
   "outputs": [
    {
     "name": "stdout",
     "output_type": "stream",
     "text": [
      "f1 tuyến tính?  True\n",
      "f2 tuyến tính?  True\n"
     ]
    }
   ],
   "source": [
    "import sympy as sp\n",
    "\n",
    "x1, x2, x3 = sp.symbols('x1 x2 x3')\n",
    "\n",
    "f1_expr = x1 - x2 + x3\n",
    "f2_expr = 2*x1 + 3*x2\n",
    "\n",
    "a,b,c = sp.symbols('a b c')\n",
    "d,e,f = sp.symbols('d e f')\n",
    "\n",
    "q = sp.symbols('q')\n",
    "\n",
    "f1 = sp.Lambda((x1,x2,x3), f1_expr)\n",
    "f2 = sp.Lambda((x1,x2,x3), f2_expr)\n",
    "\n",
    "check1 = (q*f1(a,b,c) + f1(d,e,f)).equals(f1(q*a + d, q*b + e, q*c + f).expand())\n",
    "print(\"f1 tuyến tính? \", check1)\n",
    "\n",
    "check2 = (q*f2(a,b,c) + f2(d,e,f)).equals(f2(q*a + d, q*b + e, q*c + f).expand())\n",
    "print(\"f2 tuyến tính? \", check2)\n"
   ]
  }
 ],
 "metadata": {
  "kernelspec": {
   "display_name": "Python 3",
   "language": "python",
   "name": "python3"
  },
  "language_info": {
   "codemirror_mode": {
    "name": "ipython",
    "version": 3
   },
   "file_extension": ".py",
   "mimetype": "text/x-python",
   "name": "python",
   "nbconvert_exporter": "python",
   "pygments_lexer": "ipython3",
   "version": "3.8.5"
  },
  "orig_nbformat": 4,
  "vscode": {
   "interpreter": {
    "hash": "9650cb4e16cdd4a8e8e2d128bf38d875813998db22a3c986335f89e0cb4d7bb2"
   }
  }
 },
 "nbformat": 4,
 "nbformat_minor": 2
}
