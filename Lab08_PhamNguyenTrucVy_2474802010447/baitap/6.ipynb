{
 "cells": [
  {
   "cell_type": "code",
   "execution_count": 1,
   "metadata": {},
   "outputs": [
    {
     "name": "stdout",
     "output_type": "stream",
     "text": [
      "Nghiệm của hệ phương trình là:\n",
      "{c1: 0, c2: 0, c3: 0}\n"
     ]
    }
   ],
   "source": [
    "import sympy as sp\n",
    "\n",
    "c1, c2, c3 = sp.symbols('c1 c2 c3')\n",
    "\n",
    "eq1 = c1*1 + c2*0 + c3*(-2)   \n",
    "eq2 = c1*2 + c2*1 + c3*0    \n",
    "eq3 = c1*3 + c2*2 + c3*1    \n",
    "\n",
    "solution = sp.solve([eq1, eq2, eq3], (c1, c2, c3))\n",
    "\n",
    "print(\"Nghiệm của hệ phương trình là:\")\n",
    "print(solution)\n"
   ]
  }
 ],
 "metadata": {
  "kernelspec": {
   "display_name": "Python 3",
   "language": "python",
   "name": "python3"
  },
  "language_info": {
   "codemirror_mode": {
    "name": "ipython",
    "version": 3
   },
   "file_extension": ".py",
   "mimetype": "text/x-python",
   "name": "python",
   "nbconvert_exporter": "python",
   "pygments_lexer": "ipython3",
   "version": "3.8.5"
  },
  "orig_nbformat": 4,
  "vscode": {
   "interpreter": {
    "hash": "9650cb4e16cdd4a8e8e2d128bf38d875813998db22a3c986335f89e0cb4d7bb2"
   }
  }
 },
 "nbformat": 4,
 "nbformat_minor": 2
}
