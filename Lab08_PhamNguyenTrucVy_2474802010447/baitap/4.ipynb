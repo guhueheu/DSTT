{
 "cells": [
  {
   "cell_type": "code",
   "execution_count": 1,
   "metadata": {},
   "outputs": [
    {
     "name": "stdout",
     "output_type": "stream",
     "text": [
      "Ma trận chuyển vị A1.T:\n",
      "Matrix([[x1, y1], [y1, x1]])\n",
      "\n",
      "Chuyển vị của tổng (A1 + A2).T:\n",
      "Matrix([[x1 + x2, y1 + y2], [y1 + y2, x1 + x2]])\n",
      "\n",
      "Kiểm tra (A1 + A2).T == A1 + A2:\n",
      "True\n",
      "\n",
      "Phép nhân ma trận c*A với số thực c:\n",
      "Matrix([[c*x, c*y], [c*y, c*x]])\n",
      "\n",
      "Kiểm tra ((c*A).T) == (c*A):\n",
      "True\n"
     ]
    }
   ],
   "source": [
    "import sympy as sp\n",
    "\n",
    "x, y = sp.symbols('x y')\n",
    "\n",
    "A = sp.Matrix([[x, y],\n",
    "               [y, x]])\n",
    "\n",
    "x1, y1 = sp.symbols('x1 y1')\n",
    "x2, y2 = sp.symbols('x2 y2')\n",
    "\n",
    "A1 = sp.Matrix([[x1, y1],\n",
    "                [y1, x1]])\n",
    "\n",
    "A2 = sp.Matrix([[x2, y2],\n",
    "                [y2, x2]])\n",
    "\n",
    "print(\"Ma trận chuyển vị A1.T:\")\n",
    "print(A1.T)\n",
    "\n",
    "print(\"\\nChuyển vị của tổng (A1 + A2).T:\")\n",
    "print((A1 + A2).T)\n",
    "\n",
    "print(\"\\nKiểm tra (A1 + A2).T == A1 + A2:\")\n",
    "print(((A1 + A2).T).equals(A1 + A2))\n",
    "\n",
    "c = sp.symbols('c')\n",
    "\n",
    "print(f\"\\nPhép nhân ma trận c*A với số thực c:\")\n",
    "print(c * A)\n",
    "\n",
    "print(\"\\nKiểm tra ((c*A).T) == (c*A):\")\n",
    "print(((c * A).T).equals(c * A))\n"
   ]
  }
 ],
 "metadata": {
  "kernelspec": {
   "display_name": "Python 3",
   "language": "python",
   "name": "python3"
  },
  "language_info": {
   "codemirror_mode": {
    "name": "ipython",
    "version": 3
   },
   "file_extension": ".py",
   "mimetype": "text/x-python",
   "name": "python",
   "nbconvert_exporter": "python",
   "pygments_lexer": "ipython3",
   "version": "3.8.5"
  },
  "orig_nbformat": 4,
  "vscode": {
   "interpreter": {
    "hash": "9650cb4e16cdd4a8e8e2d128bf38d875813998db22a3c986335f89e0cb4d7bb2"
   }
  }
 },
 "nbformat": 4,
 "nbformat_minor": 2
}
