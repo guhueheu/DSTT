{
 "cells": [
  {
   "cell_type": "code",
   "execution_count": 1,
   "metadata": {},
   "outputs": [
    {
     "name": "stdout",
     "output_type": "stream",
     "text": [
      "a) Vector y1 là tổ hợp tuyến tính của v1, v2, v3 với hệ số:\n",
      "[ 5.00000000e-01 -1.66533454e-16 -5.00000000e-01]\n",
      "\n",
      "b) Vector y2 là tổ hợp tuyến tính của v1, v2, v3 với hệ số:\n",
      "[ 3.15251974e+16 -6.30503948e+16  3.15251974e+16]\n"
     ]
    }
   ],
   "source": [
    "import numpy as np\n",
    "\n",
    "v1 = np.array([1, 2, 3])\n",
    "v2 = np.array([0, 1, 2])\n",
    "v3 = np.array([-1, 0, 1])\n",
    "\n",
    "A = np.column_stack((v1, v2, v3))\n",
    "\n",
    "y1 = np.array([1, 1, 1])\n",
    "\n",
    "try:\n",
    "    x1 = np.linalg.solve(A, y1)\n",
    "    print(\"a) Vector y1 là tổ hợp tuyến tính của v1, v2, v3 với hệ số:\")\n",
    "    print(x1)\n",
    "except np.linalg.LinAlgError:\n",
    "    print(\"a) Vector y1 không là tổ hợp tuyến tính của v1, v2, v3\")\n",
    "\n",
    "y2 = np.array([1, -2, 2])\n",
    "\n",
    "try:\n",
    "   \n",
    "    x2 = np.linalg.solve(A, y2)\n",
    "    print(\"\\nb) Vector y2 là tổ hợp tuyến tính của v1, v2, v3 với hệ số:\")\n",
    "    print(x2)\n",
    "except np.linalg.LinAlgError:\n",
    "    print(\"\\nb) Vector y2 không là tổ hợp tuyến tính của v1, v2, v3\")\n"
   ]
  }
 ],
 "metadata": {
  "kernelspec": {
   "display_name": "Python 3",
   "language": "python",
   "name": "python3"
  },
  "language_info": {
   "codemirror_mode": {
    "name": "ipython",
    "version": 3
   },
   "file_extension": ".py",
   "mimetype": "text/x-python",
   "name": "python",
   "nbconvert_exporter": "python",
   "pygments_lexer": "ipython3",
   "version": "3.8.5"
  },
  "orig_nbformat": 4,
  "vscode": {
   "interpreter": {
    "hash": "9650cb4e16cdd4a8e8e2d128bf38d875813998db22a3c986335f89e0cb4d7bb2"
   }
  }
 },
 "nbformat": 4,
 "nbformat_minor": 2
}
