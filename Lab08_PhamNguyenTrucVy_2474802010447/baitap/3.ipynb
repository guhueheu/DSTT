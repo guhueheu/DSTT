{
 "cells": [
  {
   "cell_type": "code",
   "execution_count": 1,
   "metadata": {},
   "outputs": [
    {
     "name": "stdout",
     "output_type": "stream",
     "text": [
      "Ma trận A:\n",
      "[[1 0]\n",
      " [0 0]]\n",
      "\n",
      "Ma trận B:\n",
      "[[0 0]\n",
      " [0 1]]\n",
      "\n",
      "Thử lấy nghịch đảo ma trận A:\n",
      "Lỗi: Singular matrix\n",
      "\n",
      "Thử lấy nghịch đảo ma trận B:\n",
      "Lỗi: Singular matrix\n",
      "\n",
      "Thử lấy nghịch đảo ma trận A + B:\n",
      "[[1. 0.]\n",
      " [0. 1.]]\n",
      "\n",
      "Định thức của A: 0.0\n",
      "Định thức của B: 0.0\n",
      "Định thức của A + B: 1.0\n"
     ]
    }
   ],
   "source": [
    "import numpy as np\n",
    "from numpy import linalg as LA\n",
    "\n",
    "A = np.matrix([[1, 0],\n",
    "               [0, 0]])\n",
    "\n",
    "B = np.matrix([[0, 0],\n",
    "               [0, 1]])\n",
    "\n",
    "print(\"Ma trận A:\")\n",
    "print(A)\n",
    "print(\"\\nMa trận B:\")\n",
    "print(B)\n",
    "\n",
    "print(\"\\nThử lấy nghịch đảo ma trận A:\")\n",
    "try:\n",
    "    inv_A = LA.inv(A)\n",
    "    print(inv_A)\n",
    "except LA.LinAlgError as e:\n",
    "    print(\"Lỗi:\", e)\n",
    "\n",
    "print(\"\\nThử lấy nghịch đảo ma trận B:\")\n",
    "try:\n",
    "    inv_B = LA.inv(B)\n",
    "    print(inv_B)\n",
    "except LA.LinAlgError as e:\n",
    "    print(\"Lỗi:\", e)\n",
    "\n",
    "print(\"\\nThử lấy nghịch đảo ma trận A + B:\")\n",
    "try:\n",
    "    inv_sum = LA.inv(A + B)\n",
    "    print(inv_sum)\n",
    "except LA.LinAlgError as e:\n",
    "    print(\"Lỗi:\", e)\n",
    "\n",
    "det_A = LA.det(A)\n",
    "det_B = LA.det(B)\n",
    "det_sum = LA.det(A + B)\n",
    "\n",
    "print(f\"\\nĐịnh thức của A: {det_A}\")\n",
    "print(f\"Định thức của B: {det_B}\")\n",
    "print(f\"Định thức của A + B: {det_sum}\")\n"
   ]
  }
 ],
 "metadata": {
  "kernelspec": {
   "display_name": "Python 3",
   "language": "python",
   "name": "python3"
  },
  "language_info": {
   "codemirror_mode": {
    "name": "ipython",
    "version": 3
   },
   "file_extension": ".py",
   "mimetype": "text/x-python",
   "name": "python",
   "nbconvert_exporter": "python",
   "pygments_lexer": "ipython3",
   "version": "3.8.5"
  },
  "orig_nbformat": 4,
  "vscode": {
   "interpreter": {
    "hash": "9650cb4e16cdd4a8e8e2d128bf38d875813998db22a3c986335f89e0cb4d7bb2"
   }
  }
 },
 "nbformat": 4,
 "nbformat_minor": 2
}
