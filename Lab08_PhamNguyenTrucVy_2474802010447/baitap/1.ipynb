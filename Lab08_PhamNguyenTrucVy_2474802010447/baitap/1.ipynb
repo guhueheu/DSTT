{
 "cells": [
  {
   "cell_type": "code",
   "execution_count": 1,
   "metadata": {},
   "outputs": [
    {
     "name": "stdout",
     "output_type": "stream",
     "text": [
      "a) x = 2u - (v + 3w) = [ 18 -11   9  -8]\n",
      "b) x = [ 9.  -5.5  4.5 -4. ]\n"
     ]
    }
   ],
   "source": [
    "import numpy as np\n",
    "\n",
    "u = np.array([2, -1, 5, 0])\n",
    "v = np.array([4, 3, 1, -1])\n",
    "w = np.array([-6, 2, 0, 3])\n",
    "\n",
    "x_a = 2*u - (v + 3*w)\n",
    "print(\"a) x = 2u - (v + 3w) =\", x_a)\n",
    "\n",
    "x_b = 0.5 * (2*u - v - 3*w)\n",
    "print(\"b) x =\", x_b)\n"
   ]
  }
 ],
 "metadata": {
  "kernelspec": {
   "display_name": "Python 3",
   "language": "python",
   "name": "python3"
  },
  "language_info": {
   "codemirror_mode": {
    "name": "ipython",
    "version": 3
   },
   "file_extension": ".py",
   "mimetype": "text/x-python",
   "name": "python",
   "nbconvert_exporter": "python",
   "pygments_lexer": "ipython3",
   "version": "3.8.5"
  },
  "orig_nbformat": 4,
  "vscode": {
   "interpreter": {
    "hash": "9650cb4e16cdd4a8e8e2d128bf38d875813998db22a3c986335f89e0cb4d7bb2"
   }
  }
 },
 "nbformat": 4,
 "nbformat_minor": 2
}
