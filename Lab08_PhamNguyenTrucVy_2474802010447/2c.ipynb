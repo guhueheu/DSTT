{
 "cells": [
  {
   "cell_type": "code",
   "execution_count": 1,
   "metadata": {},
   "outputs": [
    {
     "name": "stdout",
     "output_type": "stream",
     "text": [
      "Câu c - Biến đổi tịnh tiến + đối xứng trục y:\n",
      "[[4 4 1 1 3 3 2 2 3 3]\n",
      " [2 7 7 6 6 5 5 4 4 2]]\n"
     ]
    }
   ],
   "source": [
    "import numpy as np\n",
    "\n",
    "P = np.array([[0,0,3,3,1,1,2,2,1,1],\n",
    "              [0,5,5,4,4,3,3,2,2,0]])\n",
    "\n",
    "vec_delta = np.array([4, 2]) \n",
    "\n",
    "mat_A = np.array([[-1, 0],\n",
    "                  [0, 1]])  \n",
    "\n",
    "P_c = (mat_A @ P) + vec_delta[:, np.newaxis]\n",
    "\n",
    "print(\"Câu c - Biến đổi tịnh tiến + đối xứng trục y:\")\n",
    "print(P_c)\n"
   ]
  }
 ],
 "metadata": {
  "kernelspec": {
   "display_name": "Python 3",
   "language": "python",
   "name": "python3"
  },
  "language_info": {
   "codemirror_mode": {
    "name": "ipython",
    "version": 3
   },
   "file_extension": ".py",
   "mimetype": "text/x-python",
   "name": "python",
   "nbconvert_exporter": "python",
   "pygments_lexer": "ipython3",
   "version": "3.8.5"
  },
  "orig_nbformat": 4,
  "vscode": {
   "interpreter": {
    "hash": "9650cb4e16cdd4a8e8e2d128bf38d875813998db22a3c986335f89e0cb4d7bb2"
   }
  }
 },
 "nbformat": 4,
 "nbformat_minor": 2
}
