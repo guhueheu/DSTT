{
 "cells": [
  {
   "cell_type": "code",
   "execution_count": 1,
   "metadata": {},
   "outputs": [
    {
     "name": "stdout",
     "output_type": "stream",
     "text": [
      "Giá trị riêng và vector riêng:\n",
      "Giá trị riêng: 8\n",
      "Vector riêng: Matrix([[1], [1]])\n",
      "Giá trị riêng: 18\n",
      "Vector riêng: Matrix([[-1], [1]])\n",
      "Góc xoay (độ): 45.0\n"
     ]
    }
   ],
   "source": [
    "import sympy as sp\n",
    "import math\n",
    "\n",
    "A = sp.Matrix([[13, -5],\n",
    "               [-5, 13]])\n",
    "\n",
    "eigen = A.eigenvects()\n",
    "\n",
    "print(\"Giá trị riêng và vector riêng:\")\n",
    "for val, mult, vects in eigen:\n",
    "    print(f\"Giá trị riêng: {val}\")\n",
    "    for v in vects:\n",
    "        print(f\"Vector riêng: {v}\")\n",
    "\n",
    "v1 = eigen[0][2][0]\n",
    "angle = math.degrees(math.atan2(float(v1[1]), float(v1[0])))\n",
    "print(f\"Góc xoay (độ): {angle}\")\n"
   ]
  }
 ],
 "metadata": {
  "kernelspec": {
   "display_name": "Python 3",
   "language": "python",
   "name": "python3"
  },
  "language_info": {
   "codemirror_mode": {
    "name": "ipython",
    "version": 3
   },
   "file_extension": ".py",
   "mimetype": "text/x-python",
   "name": "python",
   "nbconvert_exporter": "python",
   "pygments_lexer": "ipython3",
   "version": "3.8.5"
  },
  "orig_nbformat": 4,
  "vscode": {
   "interpreter": {
    "hash": "9650cb4e16cdd4a8e8e2d128bf38d875813998db22a3c986335f89e0cb4d7bb2"
   }
  }
 },
 "nbformat": 4,
 "nbformat_minor": 2
}
