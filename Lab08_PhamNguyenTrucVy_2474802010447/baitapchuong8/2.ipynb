{
 "cells": [
  {
   "cell_type": "code",
   "execution_count": 1,
   "metadata": {},
   "outputs": [
    {
     "name": "stdout",
     "output_type": "stream",
     "text": [
      "Tập điểm ban đầu F:\n",
      "[[ 1  2]\n",
      " [ 3  4]\n",
      " [ 5  6]\n",
      " [ 7  8]\n",
      " [ 9 10]]\n",
      "Tập điểm sau biến đổi:\n",
      "[[ 2 -1]\n",
      " [ 4 -1]\n",
      " [ 6 -1]\n",
      " [ 8 -1]\n",
      " [10 -1]]\n"
     ]
    }
   ],
   "source": [
    "import numpy as np\n",
    "\n",
    "A = np.array([[0, 1],\n",
    "              [1, -1]])\n",
    "\n",
    "F = np.array([[1, 2],\n",
    "              [3, 4],\n",
    "              [5, 6],\n",
    "              [7, 8],\n",
    "              [9, 10]])\n",
    "\n",
    "F_transformed = F @ A.T  \n",
    "\n",
    "print(\"Tập điểm ban đầu F:\")\n",
    "print(F)\n",
    "print(\"Tập điểm sau biến đổi:\")\n",
    "print(F_transformed)\n"
   ]
  }
 ],
 "metadata": {
  "kernelspec": {
   "display_name": "Python 3",
   "language": "python",
   "name": "python3"
  },
  "language_info": {
   "codemirror_mode": {
    "name": "ipython",
    "version": 3
   },
   "file_extension": ".py",
   "mimetype": "text/x-python",
   "name": "python",
   "nbconvert_exporter": "python",
   "pygments_lexer": "ipython3",
   "version": "3.8.5"
  },
  "orig_nbformat": 4,
  "vscode": {
   "interpreter": {
    "hash": "9650cb4e16cdd4a8e8e2d128bf38d875813998db22a3c986335f89e0cb4d7bb2"
   }
  }
 },
 "nbformat": 4,
 "nbformat_minor": 2
}
