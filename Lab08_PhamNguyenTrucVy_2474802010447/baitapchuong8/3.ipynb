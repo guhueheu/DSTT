{
 "cells": [
  {
   "cell_type": "code",
   "execution_count": 1,
   "metadata": {},
   "outputs": [
    {
     "name": "stdout",
     "output_type": "stream",
     "text": [
      "Kiểm tra tính tuyến tính: False\n"
     ]
    }
   ],
   "source": [
    "import sympy as sp\n",
    "\n",
    "x1, x2 = sp.symbols('x1 x2')\n",
    "a, b, c, d = sp.symbols('a b c d')\n",
    "\n",
    "O = sp.Matrix([x1 - x2, x1 + 2*x2])\n",
    "\n",
    "lhs = O.subs({x1: a*x1 + c, x2: b*x2 + d})\n",
    "rhs = a * O.subs({x1: x1, x2: x2}) + b * O.subs({x1: c, x2: d})\n",
    "\n",
    "print(\"Kiểm tra tính tuyến tính:\", sp.simplify(lhs - rhs) == sp.zeros(2,1))\n"
   ]
  }
 ],
 "metadata": {
  "kernelspec": {
   "display_name": "Python 3",
   "language": "python",
   "name": "python3"
  },
  "language_info": {
   "codemirror_mode": {
    "name": "ipython",
    "version": 3
   },
   "file_extension": ".py",
   "mimetype": "text/x-python",
   "name": "python",
   "nbconvert_exporter": "python",
   "pygments_lexer": "ipython3",
   "version": "3.8.5"
  },
  "orig_nbformat": 4,
  "vscode": {
   "interpreter": {
    "hash": "9650cb4e16cdd4a8e8e2d128bf38d875813998db22a3c986335f89e0cb4d7bb2"
   }
  }
 },
 "nbformat": 4,
 "nbformat_minor": 2
}
