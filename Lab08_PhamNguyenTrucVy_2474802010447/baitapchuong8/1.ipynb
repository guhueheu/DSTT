{
 "cells": [
  {
   "cell_type": "code",
   "execution_count": 1,
   "metadata": {},
   "outputs": [
    {
     "name": "stdout",
     "output_type": "stream",
     "text": [
      "Kiểm tra tính chất f(a*u) = a*f(u):\n",
      "Matrix([[0], [2 - 2*a], [0]])\n",
      "\n",
      "Kiểm tra tính chất f(u + v) = f(u) + f(v):\n",
      "Matrix([[0], [-2], [0]])\n",
      "\n",
      "=> Ánh xạ f không phải là ánh xạ tuyến tính.\n"
     ]
    }
   ],
   "source": [
    "import sympy as sp\n",
    "\n",
    "x1, x2, x3 = sp.symbols('x1 x2 x3')\n",
    "y1, y2, y3 = sp.symbols('y1 y2 y3')\n",
    "a = sp.symbols('a')\n",
    "\n",
    "def f(x1, x2, x3):\n",
    "    return sp.Matrix([x1 + x2, x3 + 2, 0])\n",
    "\n",
    "f_a_u = f(a*x1, a*x2, a*x3)\n",
    "a_f_u = a * f(x1, x2, x3)\n",
    "check1 = sp.simplify(f_a_u - a_f_u)\n",
    "f_u_plus_v = f(x1 + y1, x2 + y2, x3 + y3)\n",
    "f_u_plus_f_v = f(x1, x2, x3) + f(y1, y2, y3)\n",
    "check2 = sp.simplify(f_u_plus_v - f_u_plus_f_v)\n",
    "\n",
    "print(\"Kiểm tra tính chất f(a*u) = a*f(u):\")\n",
    "print(check1)\n",
    "print(\"\\nKiểm tra tính chất f(u + v) = f(u) + f(v):\")\n",
    "print(check2)\n",
    "\n",
    "if check1 == sp.zeros(3, 1) and check2 == sp.zeros(3, 1):\n",
    "    print(\"\\n=> Ánh xạ f là ánh xạ tuyến tính.\")\n",
    "else:\n",
    "    print(\"\\n=> Ánh xạ f không phải là ánh xạ tuyến tính.\")\n"
   ]
  }
 ],
 "metadata": {
  "kernelspec": {
   "display_name": "Python 3",
   "language": "python",
   "name": "python3"
  },
  "language_info": {
   "codemirror_mode": {
    "name": "ipython",
    "version": 3
   },
   "file_extension": ".py",
   "mimetype": "text/x-python",
   "name": "python",
   "nbconvert_exporter": "python",
   "pygments_lexer": "ipython3",
   "version": "3.8.5"
  },
  "orig_nbformat": 4,
  "vscode": {
   "interpreter": {
    "hash": "9650cb4e16cdd4a8e8e2d128bf38d875813998db22a3c986335f89e0cb4d7bb2"
   }
  }
 },
 "nbformat": 4,
 "nbformat_minor": 2
}
