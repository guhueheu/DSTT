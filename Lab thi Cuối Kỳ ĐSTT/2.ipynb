{
 "cells": [
  {
   "cell_type": "code",
   "execution_count": null,
   "metadata": {},
   "outputs": [],
   "source": [
    "import numpy as np\n",
    "\n",
    "M = np.array([[2, -1, 3, 0],\n",
    "              [1, 4, -2, 5],\n",
    "              [0, 2, 6, -3],\n",
    "              [-1, 0, 1, 4]])\n",
    "\n",
    "N = np.array([[1, 3, -2, 0],\n",
    "              [4, -1, 5, 2],\n",
    "              [0, 2, 3, -1],\n",
    "              [-3, 1, 0, 4]])\n",
    "\n",
    "# Câu 2a: Tính tích ma trận M × N\n",
    "product_MN = np.dot(M, N)\n",
    "\n",
    "print(\"Câu 2a: M × N =\")\n",
    "print(product_MN)\n",
    "\n",
    "# Câu 2b: Tính định thức của ma trận M\n",
    "# Định thức chỉ tính được với ma trận vuông (đã đúng 4x4)\n",
    "det_M = np.linalg.det(M)\n",
    "print(\"\\nCâu 2b: Định thức của M =\", det_M)\n",
    "if abs(det_M) < 1e-10:\n",
    "    print(\"Ma trận M không khả nghịch (định thức gần bằng 0).\")\n",
    "else:\n",
    "    print(\"Ma trận M khả nghịch (định thức khác 0).\")\n",
    "\n",
    "# Câu 2c: Tính hạng của ma trận N\n",
    "rank_N = np.linalg.matrix_rank(N)\n",
    "print(\"\\nCâu 2c: Hạng của ma trận N =\", rank_N)\n"
   ]
  }
 ],
 "metadata": {
  "kernelspec": {
   "display_name": "Python 3",
   "language": "python",
   "name": "python3"
  },
  "language_info": {
   "name": "python",
   "version": "3.11.0 (main, Oct 24 2022, 18:26:48) [MSC v.1933 64 bit (AMD64)]"
  },
  "orig_nbformat": 4,
  "vscode": {
   "interpreter": {
    "hash": "c261aea317cc0286b3b3261fbba9abdec21eaa57589985bb7a274bf54d6cc0a7"
   }
  }
 },
 "nbformat": 4,
 "nbformat_minor": 2
}
