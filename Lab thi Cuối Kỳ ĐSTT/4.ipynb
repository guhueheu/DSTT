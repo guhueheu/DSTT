{
 "cells": [
  {
   "cell_type": "code",
   "execution_count": null,
   "metadata": {},
   "outputs": [],
   "source": [
    "import numpy as np\n",
    "\n",
    "Q = np.array([[5, -2, 1],\n",
    "              [0, 3, -1],\n",
    "              [2, 0, 4]])\n",
    "\n",
    "# a) Tìm giá trị riêng\n",
    "eigvals, eigvecs = np.linalg.eig(Q)\n",
    "print(\"Câu 4a: Giá trị riêng của Q =\")\n",
    "print(eigvals)\n",
    "\n",
    "# b) Vector riêng tương ứng\n",
    "print(\"\\nCâu 4b: Vector riêng tương ứng =\")\n",
    "print(eigvecs)\n",
    "\n",
    "# c) Chuẩn hóa vector riêng (độ dài = 1)\n",
    "norms = np.linalg.norm(eigvecs, axis=0)\n",
    "eigvecs_normalized = eigvecs / norms\n",
    "print(\"\\nCâu 4c: Vector riêng chuẩn hóa =\")\n",
    "print(eigvecs_normalized)\n"
   ]
  }
 ],
 "metadata": {
  "kernelspec": {
   "display_name": "Python 3",
   "language": "python",
   "name": "python3"
  },
  "language_info": {
   "name": "python",
   "version": "3.11.0 (main, Oct 24 2022, 18:26:48) [MSC v.1933 64 bit (AMD64)]"
  },
  "orig_nbformat": 4,
  "vscode": {
   "interpreter": {
    "hash": "c261aea317cc0286b3b3261fbba9abdec21eaa57589985bb7a274bf54d6cc0a7"
   }
  }
 },
 "nbformat": 4,
 "nbformat_minor": 2
}
