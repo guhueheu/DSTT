{
 "cells": [
  {
   "cell_type": "code",
   "execution_count": null,
   "metadata": {},
   "outputs": [],
   "source": [
    "import numpy as np\n",
    "\n",
    "P = np.array([[3, -1, 0, 2],\n",
    "              [1, 4, -2, 0],\n",
    "              [0, 1, 5, -1],\n",
    "              [2, 0, 1, 3]])\n",
    "\n",
    "b = np.array([6, 8, 3, 7])  \n",
    "\n",
    "# Câu 3a: Tính ma trận nghịch đảo của P\n",
    "det_P = np.linalg.det(P)\n",
    "print(\"Câu 3a:\")\n",
    "print(\"Định thức của P =\", det_P)\n",
    "if abs(det_P) < 1e-10:\n",
    "    print(\"Ma trận P không khả nghịch.\")\n",
    "else:\n",
    "    P_inv = np.linalg.inv(P)\n",
    "    print(\"Ma trận nghịch đảo P^-1 =\\n\", P_inv)\n",
    "\n",
    "    # Câu 3b: Giải hệ phương trình bằng ma trận nghịch đảo\n",
    "    x = np.dot(P_inv, b)\n",
    "    print(\"\\nCâu 3b: Nghiệm của hệ phương trình là:\\n\", x)\n",
    "\n",
    "    # Câu 3c: Kiểm tra nghiệm\n",
    "    check_b = np.dot(P, x)\n",
    "    print(\"\\nCâu 3c: P × nghiệm =\\n\", check_b)\n",
    "    print(\"Vector hằng số b =\\n\", b)\n",
    "    print(\"Kiểm tra bằng cách so sánh P × nghiệm và b:\")\n",
    "    print(np.allclose(check_b, b)) \n"
   ]
  }
 ],
 "metadata": {
  "kernelspec": {
   "display_name": "Python 3",
   "language": "python",
   "name": "python3"
  },
  "language_info": {
   "name": "python",
   "version": "3.11.0 (main, Oct 24 2022, 18:26:48) [MSC v.1933 64 bit (AMD64)]"
  },
  "orig_nbformat": 4,
  "vscode": {
   "interpreter": {
    "hash": "c261aea317cc0286b3b3261fbba9abdec21eaa57589985bb7a274bf54d6cc0a7"
   }
  }
 },
 "nbformat": 4,
 "nbformat_minor": 2
}
