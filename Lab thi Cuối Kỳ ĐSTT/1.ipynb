{
 "cells": [
  {
   "cell_type": "code",
   "execution_count": 1,
   "metadata": {},
   "outputs": [
    {
     "name": "stdout",
     "output_type": "stream",
     "text": [
      "Câu 1a:\n",
      "A + B = [2 3 1 6]\n",
      "2A + 3B = [ 3 11  2 14]\n",
      "\n",
      "Câu 1b:\n",
      "Tích vô hướng A · B = -5\n",
      "Góc giữa A và B = 99.594 độ\n",
      "\n",
      "Câu 1c:\n",
      "Ma trận C × C^T =\n",
      " [[14 -8 13]\n",
      " [-8 21 -2]\n",
      " [13 -2 29]]\n"
     ]
    }
   ],
   "source": [
    "import numpy as np\n",
    "\n",
    "# Khai báo vector và ma trận\n",
    "A = np.array([3, -2, 1, 4])\n",
    "B = np.array([-1, 5, 0, 2])\n",
    "C = np.array([[2, -1, 3],\n",
    "              [1, 4, -2],\n",
    "              [0, 2, 5]])\n",
    "\n",
    "# Câu 1a: Tính A + B và 2A + 3B\n",
    "sum_AB = A + B\n",
    "expr = 2 * A + 3 * B\n",
    "\n",
    "print(\"Câu 1a:\")\n",
    "print(\"A + B =\", sum_AB)\n",
    "print(\"2A + 3B =\", expr)\n",
    "\n",
    "# Câu 1b: Tích vô hướng A · B và góc giữa hai vector (độ)\n",
    "dot_product = np.dot(A, B)\n",
    "norm_A = np.linalg.norm(A)\n",
    "norm_B = np.linalg.norm(B)\n",
    "cos_theta = dot_product / (norm_A * norm_B)\n",
    "theta_rad = np.arccos(cos_theta)\n",
    "theta_deg = np.degrees(theta_rad)\n",
    "\n",
    "print(\"\\nCâu 1b:\")\n",
    "print(\"Tích vô hướng A · B =\", dot_product)\n",
    "print(f\"Góc giữa A và B = {theta_deg:.3f} độ\")\n",
    "\n",
    "# Câu 1c: Tính tích ma trận C × C^T\n",
    "C_transpose = C.T\n",
    "product_C = np.dot(C, C_transpose)\n",
    "\n",
    "print(\"\\nCâu 1c:\")\n",
    "print(\"Ma trận C × C^T =\\n\", product_C)\n"
   ]
  }
 ],
 "metadata": {
  "kernelspec": {
   "display_name": "Python 3",
   "language": "python",
   "name": "python3"
  },
  "language_info": {
   "codemirror_mode": {
    "name": "ipython",
    "version": 3
   },
   "file_extension": ".py",
   "mimetype": "text/x-python",
   "name": "python",
   "nbconvert_exporter": "python",
   "pygments_lexer": "ipython3",
   "version": "3.11.0"
  },
  "orig_nbformat": 4,
  "vscode": {
   "interpreter": {
    "hash": "c261aea317cc0286b3b3261fbba9abdec21eaa57589985bb7a274bf54d6cc0a7"
   }
  }
 },
 "nbformat": 4,
 "nbformat_minor": 2
}
