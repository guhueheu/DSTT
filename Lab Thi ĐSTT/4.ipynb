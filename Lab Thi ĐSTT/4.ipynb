{
 "cells": [
  {
   "cell_type": "code",
   "execution_count": 1,
   "metadata": {},
   "outputs": [
    {
     "name": "stdout",
     "output_type": "stream",
     "text": [
      "Câu 4a: Giá trị riêng của Q =\n",
      "[6.3553014+0.j         2.8223493+1.07730381j 2.8223493-1.07730381j]\n",
      "\n",
      "Câu 4b: Vector riêng tương ứng =\n",
      "[[ 0.74846013+0.j         -0.37423006+0.34234215j -0.37423006-0.34234215j]\n",
      " [-0.18941773+0.j          0.09470887+0.57433055j  0.09470887-0.57433055j]\n",
      " [ 0.63555359+0.j          0.63555359+0.j          0.63555359-0.j        ]]\n",
      "\n",
      "Câu 4c: Vector riêng chuẩn hóa =\n",
      "[[ 0.74846013+0.j         -0.37423006+0.34234215j -0.37423006-0.34234215j]\n",
      " [-0.18941773+0.j          0.09470887+0.57433055j  0.09470887-0.57433055j]\n",
      " [ 0.63555359+0.j          0.63555359+0.j          0.63555359-0.j        ]]\n"
     ]
    }
   ],
   "source": [
    "import numpy as np\n",
    "\n",
    "Q = np.array([[5, -2, 1],\n",
    "              [0, 3, -1],\n",
    "              [2, 0, 4]])\n",
    "\n",
    "# a) Tìm giá trị riêng\n",
    "eigvals, eigvecs = np.linalg.eig(Q)\n",
    "print(\"Câu 4a: Giá trị riêng của Q =\")\n",
    "print(eigvals)\n",
    "\n",
    "# b) Vector riêng tương ứng\n",
    "print(\"\\nCâu 4b: Vector riêng tương ứng =\")\n",
    "print(eigvecs)\n",
    "\n",
    "# c) Chuẩn hóa vector riêng (độ dài = 1)\n",
    "norms = np.linalg.norm(eigvecs, axis=0)\n",
    "eigvecs_normalized = eigvecs / norms\n",
    "print(\"\\nCâu 4c: Vector riêng chuẩn hóa =\")\n",
    "print(eigvecs_normalized)\n"
   ]
  }
 ],
 "metadata": {
  "kernelspec": {
   "display_name": "Python 3",
   "language": "python",
   "name": "python3"
  },
  "language_info": {
   "codemirror_mode": {
    "name": "ipython",
    "version": 3
   },
   "file_extension": ".py",
   "mimetype": "text/x-python",
   "name": "python",
   "nbconvert_exporter": "python",
   "pygments_lexer": "ipython3",
   "version": "3.11.0"
  },
  "orig_nbformat": 4,
  "vscode": {
   "interpreter": {
    "hash": "c261aea317cc0286b3b3261fbba9abdec21eaa57589985bb7a274bf54d6cc0a7"
   }
  }
 },
 "nbformat": 4,
 "nbformat_minor": 2
}
