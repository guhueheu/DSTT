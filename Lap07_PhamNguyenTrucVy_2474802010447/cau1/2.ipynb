{
 "cells": [
  {
   "cell_type": "code",
   "execution_count": 1,
   "metadata": {},
   "outputs": [
    {
     "name": "stdout",
     "output_type": "stream",
     "text": [
      "Các vị trí khớp:\n",
      "Vị trí: 6, đoạn con: [ 0  1 -1]\n"
     ]
    }
   ],
   "source": [
    "import numpy as np\n",
    "\n",
    "A = np.array([0, 0, -1, 2, 3, -1, 0, 1, -1, -1])\n",
    "search_vector = np.array([0, 1, -1])\n",
    "\n",
    "n = len(A) - len(search_vector) + 1\n",
    "\n",
    "B = np.zeros((n, len(search_vector)), dtype=int)\n",
    "for i in range(n):\n",
    "    B[i] = A[i:i+len(search_vector)]\n",
    "\n",
    "C = np.inner(B, search_vector)\n",
    "\n",
    "target = np.inner(search_vector, search_vector)\n",
    "\n",
    "print(\"Các vị trí khớp:\")\n",
    "for i in range(n):\n",
    "    if C[i] == target:\n",
    "        if np.array_equal(B[i], search_vector): \n",
    "            print(f\"Vị trí: {i}, đoạn con: {B[i]}\")\n"
   ]
  }
 ],
 "metadata": {
  "kernelspec": {
   "display_name": "Python 3",
   "language": "python",
   "name": "python3"
  },
  "language_info": {
   "codemirror_mode": {
    "name": "ipython",
    "version": 3
   },
   "file_extension": ".py",
   "mimetype": "text/x-python",
   "name": "python",
   "nbconvert_exporter": "python",
   "pygments_lexer": "ipython3",
   "version": "3.8.5"
  },
  "orig_nbformat": 4,
  "vscode": {
   "interpreter": {
    "hash": "9650cb4e16cdd4a8e8e2d128bf38d875813998db22a3c986335f89e0cb4d7bb2"
   }
  }
 },
 "nbformat": 4,
 "nbformat_minor": 2
}
