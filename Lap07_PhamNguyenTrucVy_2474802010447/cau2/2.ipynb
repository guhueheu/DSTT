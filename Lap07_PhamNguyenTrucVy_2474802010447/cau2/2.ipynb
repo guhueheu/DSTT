{
 "cells": [
  {
   "cell_type": "code",
   "execution_count": 1,
   "metadata": {},
   "outputs": [
    {
     "name": "stdout",
     "output_type": "stream",
     "text": [
      "Lần lặp            A         B         C         D\n",
      "0             1.0000    1.0000    1.0000    1.0000\n",
      "1         0.750000000.583333330.583333332.08333333\n",
      "2         0.812500000.770833330.770833331.64583333\n",
      "3         0.796875000.682291670.682291671.83854167\n",
      "4         0.800781250.725260420.725260421.74869792\n",
      "5         0.799804690.704101560.704101561.79199219\n",
      "6         0.800048830.714599610.714599611.77075195\n",
      "7         0.799987790.709370930.709370931.78127035\n",
      "\n",
      "✅ Node có PageRank cao nhất: 1.78127035\n"
     ]
    }
   ],
   "source": [
    "import numpy as np\n",
    "\n",
    "N = 4\n",
    "\n",
    "A = np.array([\n",
    "    [0,     0,     1/2,   1/4],\n",
    "    [1/3,   0,     0,     1/4],\n",
    "    [1/3,   0,     0,     1/4],\n",
    "    [1/3,   1.0,   1/2,   1/4]\n",
    "])\n",
    "\n",
    "x = np.array([1.0, 1.0, 1.0, 1.0])\n",
    "\n",
    "print(f\"{'Lần lặp':<10}{'A':>10}{'B':>10}{'C':>10}{'D':>10}\")\n",
    "print(f\"{0:<10}{x[0]:>10.4f}{x[1]:>10.4f}{x[2]:>10.4f}{x[3]:>10.4f}\")\n",
    "\n",
    "for i in range(1, 8):\n",
    "    x = np.dot(A, x)\n",
    "    print(f\"{i:<10}{x[0]:>10.8f}{x[1]:>10.8f}{x[2]:>10.8f}{x[3]:>10.8f}\")\n",
    "\n",
    "max_val = np.max(x)\n",
    "print(f\"\\n✅ Node có PageRank cao nhất: {max_val:.8f}\")\n"
   ]
  }
 ],
 "metadata": {
  "kernelspec": {
   "display_name": "Python 3",
   "language": "python",
   "name": "python3"
  },
  "language_info": {
   "codemirror_mode": {
    "name": "ipython",
    "version": 3
   },
   "file_extension": ".py",
   "mimetype": "text/x-python",
   "name": "python",
   "nbconvert_exporter": "python",
   "pygments_lexer": "ipython3",
   "version": "3.8.5"
  },
  "orig_nbformat": 4,
  "vscode": {
   "interpreter": {
    "hash": "9650cb4e16cdd4a8e8e2d128bf38d875813998db22a3c986335f89e0cb4d7bb2"
   }
  }
 },
 "nbformat": 4,
 "nbformat_minor": 2
}
