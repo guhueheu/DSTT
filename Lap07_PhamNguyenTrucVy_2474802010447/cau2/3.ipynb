{
 "cells": [
  {
   "cell_type": "code",
   "execution_count": 1,
   "metadata": {},
   "outputs": [
    {
     "name": "stdout",
     "output_type": "stream",
     "text": [
      "Lần lặp   B        1B        2B        3B        4B        5B        6B        7B        8\n",
      "0            0.1250   0.1250   0.1250   0.1250   0.1250   0.1250   0.1250   0.1250\n",
      "1            0.0719   0.1073   0.0542   0.1604   0.1250   0.1781   0.2313   0.0719\n",
      "2            0.0418   0.0621   0.0391   0.1077   0.1401   0.2459   0.2237   0.0945\n",
      "3            0.0345   0.0464   0.0297   0.0728   0.1488   0.2482   0.2229   0.1224\n",
      "4            0.0300   0.0398   0.0271   0.0595   0.1426   0.2588   0.2268   0.1228\n",
      "5            0.0285   0.0370   0.0255   0.0540   0.1439   0.2620   0.2157   0.1270\n",
      "6            0.0276   0.0357   0.0248   0.0514   0.1438   0.2541   0.2160   0.1281\n",
      "7            0.0271   0.0349   0.0243   0.0501   0.1397   0.2546   0.2151   0.1245\n"
     ]
    }
   ],
   "source": [
    "import numpy as np\n",
    "\n",
    "d = 0.85\n",
    "N = 8\n",
    "\n",
    "A = np.array([\n",
    "    [0.0,   0.0,   1/2.0, 0.0,   0.0,   0.0,   0.0,   0.0],\n",
    "    [1/3.0, 0.0,   1/2.0, 0.0,   0.0,   0.0,   0.0,   0.0],\n",
    "    [1/3.0, 0.0,   0.0,   0.0,   0.0,   0.0,   0.0,   0.0],\n",
    "    [1/3.0, 1/2.0, 1/2.0, 0.0,   0.0,   0.0,   0.0,   0.0],\n",
    "    [0.0,   1/2.0, 0.0,   0.0,   0.0,   1/2.0, 0.0,   0.0],\n",
    "    [0.0,   0.0,   0.0,   0.0,   0.0,   0.0,   1.0,   1/2.0],\n",
    "    [0.0,   0.0,   0.0,   1/2.0, 1.0,   0.0,   0.0,   1/2.0],\n",
    "    [0.0,   0.0,   0.0,   0.0,   0.0,   1/2.0, 0.0,   0.0]\n",
    "])\n",
    "\n",
    "x = np.array([1.0 / N] * N)\n",
    "\n",
    "M = d * A + ((1 - d) / N) * np.ones((N, N))\n",
    "\n",
    "print(f\"{'Lần lặp':<10}\" + \"\".join([f\"B{i+1:>9}\" for i in range(N)]))\n",
    "print(f\"{0:<10}\" + \"\".join([f\"{xi:>9.4f}\" for xi in x]))\n",
    "\n",
    "for i in range(1, 8):\n",
    "    x = np.dot(M, x)\n",
    "    print(f\"{i:<10}\" + \"\".join([f\"{xi:>9.4f}\" for xi in x]))\n"
   ]
  }
 ],
 "metadata": {
  "kernelspec": {
   "display_name": "Python 3",
   "language": "python",
   "name": "python3"
  },
  "language_info": {
   "codemirror_mode": {
    "name": "ipython",
    "version": 3
   },
   "file_extension": ".py",
   "mimetype": "text/x-python",
   "name": "python",
   "nbconvert_exporter": "python",
   "pygments_lexer": "ipython3",
   "version": "3.8.5"
  },
  "orig_nbformat": 4,
  "vscode": {
   "interpreter": {
    "hash": "9650cb4e16cdd4a8e8e2d128bf38d875813998db22a3c986335f89e0cb4d7bb2"
   }
  }
 },
 "nbformat": 4,
 "nbformat_minor": 2
}
