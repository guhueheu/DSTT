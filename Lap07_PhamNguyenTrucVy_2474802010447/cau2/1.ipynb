{
 "cells": [
  {
   "cell_type": "code",
   "execution_count": 1,
   "metadata": {},
   "outputs": [
    {
     "name": "stdout",
     "output_type": "stream",
     "text": [
      "Lần lặp              A           B           C           D\n",
      "0               1.0000      1.0000      1.0000      1.0000\n",
      "1           1.00000000  0.33333333  0.83333333  1.83333333\n",
      "2           1.33333333  0.33333333  1.25000000  1.08333333\n",
      "3           1.16666667  0.44444444  0.98611111  1.40277778\n",
      "4           1.19444444  0.38888889  1.09027778  1.32638889\n",
      "5           1.20833333  0.39814815  1.06134259  1.33217593\n",
      "6           1.19675926  0.40277778  1.06886574  1.33159722\n",
      "7           1.20023148  0.39891975  1.06471836  1.33613040\n",
      "8           1.20042438  0.40007716  1.06814236  1.33135610\n",
      "9           1.19974923  0.40014146  1.06581951  1.33428980\n",
      "10          1.20005466  0.39991641  1.06706131  1.33296762\n"
     ]
    }
   ],
   "source": [
    "import numpy as np\n",
    "\n",
    "A = np.array([\n",
    "    [0,     0,     0.5,   0.5],\n",
    "    [1/3,   0,     0,     0],\n",
    "    [1/3,   0,     0,     0.5],\n",
    "    [1/3,   1.0,   0.5,   0]\n",
    "])\n",
    "\n",
    "x = np.array([1.0, 1.0, 1.0, 1.0])\n",
    "\n",
    "print(f\"{'Lần lặp':<10}{'A':>12}{'B':>12}{'C':>12}{'D':>12}\")\n",
    "print(f\"{0:<10}{x[0]:>12.4f}{x[1]:>12.4f}{x[2]:>12.4f}{x[3]:>12.4f}\")\n",
    "\n",
    "for i in range(1, 11):\n",
    "    x = np.dot(A, x)\n",
    "    print(f\"{i:<10}{x[0]:>12.8f}{x[1]:>12.8f}{x[2]:>12.8f}{x[3]:>12.8f}\")\n"
   ]
  }
 ],
 "metadata": {
  "kernelspec": {
   "display_name": "Python 3",
   "language": "python",
   "name": "python3"
  },
  "language_info": {
   "codemirror_mode": {
    "name": "ipython",
    "version": 3
   },
   "file_extension": ".py",
   "mimetype": "text/x-python",
   "name": "python",
   "nbconvert_exporter": "python",
   "pygments_lexer": "ipython3",
   "version": "3.8.5"
  },
  "orig_nbformat": 4,
  "vscode": {
   "interpreter": {
    "hash": "9650cb4e16cdd4a8e8e2d128bf38d875813998db22a3c986335f89e0cb4d7bb2"
   }
  }
 },
 "nbformat": 4,
 "nbformat_minor": 2
}
