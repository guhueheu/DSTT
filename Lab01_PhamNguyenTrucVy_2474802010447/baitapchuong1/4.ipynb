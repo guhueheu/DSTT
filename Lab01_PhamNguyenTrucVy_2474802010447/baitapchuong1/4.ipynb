{
 "cells": [
  {
   "cell_type": "code",
   "execution_count": 1,
   "metadata": {},
   "outputs": [
    {
     "name": "stdout",
     "output_type": "stream",
     "text": [
      "Nghiệm của hệ phương trình là:\n",
      "[{x: 3, y: 2}]\n"
     ]
    }
   ],
   "source": [
    "from sympy import Symbol, solve\n",
    "\n",
    "x = Symbol('x')\n",
    "y = Symbol('y')\n",
    "\n",
    "pt1 = 2*x + 3*y - 12\n",
    "pt2 = 3*x - 2*y - 5\n",
    "\n",
    "nghiem = solve((pt1, pt2), dict=True)\n",
    "print(\"Nghiệm của hệ phương trình là:\")\n",
    "print(nghiem)\n"
   ]
  }
 ],
 "metadata": {
  "kernelspec": {
   "display_name": "Python 3",
   "language": "python",
   "name": "python3"
  },
  "language_info": {
   "codemirror_mode": {
    "name": "ipython",
    "version": 3
   },
   "file_extension": ".py",
   "mimetype": "text/x-python",
   "name": "python",
   "nbconvert_exporter": "python",
   "pygments_lexer": "ipython3",
   "version": "3.8.5"
  },
  "orig_nbformat": 4,
  "vscode": {
   "interpreter": {
    "hash": "9650cb4e16cdd4a8e8e2d128bf38d875813998db22a3c986335f89e0cb4d7bb2"
   }
  }
 },
 "nbformat": 4,
 "nbformat_minor": 2
}
