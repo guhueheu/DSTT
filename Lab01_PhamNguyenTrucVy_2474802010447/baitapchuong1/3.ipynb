{
 "cells": [
  {
   "cell_type": "code",
   "execution_count": 1,
   "metadata": {},
   "outputs": [
    {
     "name": "stdout",
     "output_type": "stream",
     "text": [
      "Nghiệm của phương trình a*x^2 + b*x + c = 0 là:\n",
      "⎡⎧           _____________⎫  ⎧           _____________⎫⎤\n",
      "⎢⎪          ╱           2 ⎪  ⎪          ╱           2 ⎪⎥\n",
      "⎢⎨   -b - ╲╱  -4⋅a⋅c + b  ⎬  ⎨   -b + ╲╱  -4⋅a⋅c + b  ⎬⎥\n",
      "⎢⎪x: ─────────────────────⎪, ⎪x: ─────────────────────⎪⎥\n",
      "⎣⎩            2⋅a         ⎭  ⎩            2⋅a         ⎭⎦\n"
     ]
    }
   ],
   "source": [
    "from sympy import Symbol, solve, pprint\n",
    "\n",
    "x = Symbol('x')\n",
    "a = Symbol('a')\n",
    "b = Symbol('b')\n",
    "c = Symbol('c')\n",
    "\n",
    "ptb2 = a*x**2 + b*x + c\n",
    "\n",
    "nghiem = solve(ptb2, x, dict=True)\n",
    "\n",
    "print(\"Nghiệm của phương trình a*x^2 + b*x + c = 0 là:\")\n",
    "pprint(nghiem)\n"
   ]
  }
 ],
 "metadata": {
  "kernelspec": {
   "display_name": "Python 3",
   "language": "python",
   "name": "python3"
  },
  "language_info": {
   "codemirror_mode": {
    "name": "ipython",
    "version": 3
   },
   "file_extension": ".py",
   "mimetype": "text/x-python",
   "name": "python",
   "nbconvert_exporter": "python",
   "pygments_lexer": "ipython3",
   "version": "3.8.5"
  },
  "orig_nbformat": 4,
  "vscode": {
   "interpreter": {
    "hash": "9650cb4e16cdd4a8e8e2d128bf38d875813998db22a3c986335f89e0cb4d7bb2"
   }
  }
 },
 "nbformat": 4,
 "nbformat_minor": 2
}
