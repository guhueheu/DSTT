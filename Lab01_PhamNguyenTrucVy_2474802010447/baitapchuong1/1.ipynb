{
 "cells": [
  {
   "cell_type": "code",
   "execution_count": 2,
   "metadata": {},
   "outputs": [
    {
     "name": "stdout",
     "output_type": "stream",
     "text": [
      "Nghiệm của phương trình x + 3 = 5 là:\n",
      "[2]\n",
      "Nghiệm của phương trình x^2 + 3 = 5 là:\n",
      "[-sqrt(2), sqrt(2)]\n",
      "Nghiệm thứ nhất: -sqrt(2)\n",
      "Nghiệm thứ hai: sqrt(2)\n"
     ]
    }
   ],
   "source": [
    "from sympy import Symbol, solve, sqrt\n",
    "x = Symbol('x')\n",
    "\n",
    "bieuthuc1 = x + 3 - 5 \n",
    "nghiem1 = solve(bieuthuc1)\n",
    "print(\"Nghiệm của phương trình x + 3 = 5 là:\")\n",
    "print(nghiem1) \n",
    "\n",
    "bieuthuc2 = x**2 + 3 - 5  \n",
    "nghiem2 = solve(bieuthuc2)\n",
    "print(\"Nghiệm của phương trình x^2 + 3 = 5 là:\")\n",
    "print(nghiem2) \n",
    "\n",
    "print(\"Nghiệm thứ nhất:\", nghiem2[0])  \n",
    "print(\"Nghiệm thứ hai:\", nghiem2[1])  \n",
    "\n"
   ]
  }
 ],
 "metadata": {
  "kernelspec": {
   "display_name": "Python 3",
   "language": "python",
   "name": "python3"
  },
  "language_info": {
   "codemirror_mode": {
    "name": "ipython",
    "version": 3
   },
   "file_extension": ".py",
   "mimetype": "text/x-python",
   "name": "python",
   "nbconvert_exporter": "python",
   "pygments_lexer": "ipython3",
   "version": "3.8.5"
  },
  "orig_nbformat": 4,
  "vscode": {
   "interpreter": {
    "hash": "9650cb4e16cdd4a8e8e2d128bf38d875813998db22a3c986335f89e0cb4d7bb2"
   }
  }
 },
 "nbformat": 4,
 "nbformat_minor": 2
}
