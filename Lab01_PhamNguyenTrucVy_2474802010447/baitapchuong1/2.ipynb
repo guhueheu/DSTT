{
 "cells": [
  {
   "cell_type": "code",
   "execution_count": 1,
   "metadata": {},
   "outputs": [
    {
     "name": "stdout",
     "output_type": "stream",
     "text": [
      "Nghiệm của phương trình x^2 + 9x + 8 = 0 là:\n",
      "[{x: -8}, {x: -1}]\n",
      "Nghiệm của phương trình x^2 + x + 10 = 0 là:\n",
      "[{x: -1/2 - sqrt(39)*I/2}, {x: -1/2 + sqrt(39)*I/2}]\n"
     ]
    }
   ],
   "source": [
    "from sympy import Symbol, solve, I\n",
    "\n",
    "x = Symbol('x')\n",
    "\n",
    "ptb2_thuc = x**2 + 9*x + 8\n",
    "nghiem_thuc = solve(ptb2_thuc, dict=True)\n",
    "print(\"Nghiệm của phương trình x^2 + 9x + 8 = 0 là:\")\n",
    "print(nghiem_thuc)\n",
    "ptb2_ao = x**2 + x + 10\n",
    "nghiem_ao = solve(ptb2_ao, dict=True)\n",
    "print(\"Nghiệm của phương trình x^2 + x + 10 = 0 là:\")\n",
    "print(nghiem_ao)\n"
   ]
  }
 ],
 "metadata": {
  "kernelspec": {
   "display_name": "Python 3",
   "language": "python",
   "name": "python3"
  },
  "language_info": {
   "codemirror_mode": {
    "name": "ipython",
    "version": 3
   },
   "file_extension": ".py",
   "mimetype": "text/x-python",
   "name": "python",
   "nbconvert_exporter": "python",
   "pygments_lexer": "ipython3",
   "version": "3.8.5"
  },
  "orig_nbformat": 4,
  "vscode": {
   "interpreter": {
    "hash": "9650cb4e16cdd4a8e8e2d128bf38d875813998db22a3c986335f89e0cb4d7bb2"
   }
  }
 },
 "nbformat": 4,
 "nbformat_minor": 2
}
