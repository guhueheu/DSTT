{
 "cells": [
  {
   "cell_type": "code",
   "execution_count": 1,
   "metadata": {},
   "outputs": [
    {
     "name": "stdout",
     "output_type": "stream",
     "text": [
      "vec1 * 2: [ 2.  6. 10.]\n",
      "vec1 * vec1: [ 1.  9. 25.]\n",
      "vec1 / 2: [0.5 1.5 2.5]\n",
      "vec1 + vec1: [ 2.  6. 10.]\n",
      "vec1 + vec3: [ 3.  7. 11.]\n",
      "vec1 / vec3: [0.5        0.75       0.83333333]\n",
      "vec1 * vec3: [ 2. 12. 30.]\n",
      "2*vec1 + 5*vec3: [12. 26. 40.]\n",
      "vec3[2]: 6.0\n",
      "vec4: [ 0.  5. 10. 15. 20.]\n",
      "vec5 (zeros): [0. 0. 0. 0. 0.]\n",
      "vec6 (ones): [1. 1. 1. 1. 1.]\n",
      "vec7 (empty): [0. 0. 0. 0. 0.]\n",
      "Random vector: [0.67696395 0.63921855 0.53292593 0.74080506 0.76154516]\n",
      "Tổng v: 9.0\n",
      "Số chiều v: (3,)\n",
      "Chuyển vị v: [1. 3. 5.]\n",
      "v1 = v[:2]: [1. 3.]\n",
      "v sau v[0]=5: [5. 3. 5.]\n",
      "v1 sau v thay đổi: [5. 3.]\n",
      "v1 mới: [1. 2.]\n",
      "v sau thay v1: [1. 2. 5.]\n",
      "v3 = [ 5. 10.]\n",
      "v3 không thay đổi: [ 5. 10.]\n",
      "v sau đó: [1. 2. 5.]\n",
      "v + 10: [11. 12. 15.]\n",
      "sqrt(v): [1.         1.41421356 2.23606798]\n",
      "cos(v): [ 0.54030231 -0.41614684  0.28366219]\n",
      "sin(v): [ 0.84147098  0.90929743 -0.95892427]\n",
      "np.dot(v1, v3): 80.0\n",
      "v1.dot(v3): 80.0\n",
      "v3.dot(v1): 80.0\n"
     ]
    }
   ],
   "source": [
    "import numpy as np\n",
    "\n",
    "vec1 = np.array([1., 3., 5.])\n",
    "print(\"vec1 * 2:\", vec1 * 2)                   \n",
    "print(\"vec1 * vec1:\", vec1 * vec1)             \n",
    "print(\"vec1 / 2:\", vec1 / 2)                    \n",
    "print(\"vec1 + vec1:\", vec1 + vec1)              \n",
    "\n",
    "vec2 = np.array([2., 4.])\n",
    "\n",
    "vec3 = np.array([2., 4., 6.])\n",
    "print(\"vec1 + vec3:\", vec1 + vec3)              \n",
    "print(\"vec1 / vec3:\", vec1 / vec3)              \n",
    "print(\"vec1 * vec3:\", vec1 * vec3)              \n",
    "print(\"2*vec1 + 5*vec3:\", 2*vec1 + 5*vec3)       \n",
    "\n",
    "print(\"vec3[2]:\", vec3[2])                     \n",
    "\n",
    "vec4 = np.linspace(0, 20, 5)\n",
    "print(\"vec4:\", vec4)                           \n",
    "\n",
    "vec5 = np.zeros(5)\n",
    "vec6 = np.ones(5)\n",
    "vec7 = np.empty(5)\n",
    "print(\"vec5 (zeros):\", vec5)\n",
    "print(\"vec6 (ones):\", vec6)\n",
    "print(\"vec7 (empty):\", vec7)  \n",
    "print(\"Random vector:\", np.random.random(5))\n",
    "\n",
    "v = np.array([1., 3., 5.])\n",
    "print(\"Tổng v:\", np.sum(v))                    \n",
    "print(\"Số chiều v:\", v.shape)                   \n",
    "print(\"Chuyển vị v:\", v.transpose())           \n",
    "v1 = v[:2]\n",
    "print(\"v1 = v[:2]:\", v1)                       \n",
    "v[0] = 5\n",
    "print(\"v sau v[0]=5:\", v)                       \n",
    "print(\"v1 sau v thay đổi:\", v1)                 \n",
    "\n",
    "v1[:2] = [1., 2.]\n",
    "print(\"v1 mới:\", v1)                           \n",
    "print(\"v sau thay v1:\", v)                      \n",
    "\n",
    "v3 = 2 * v[:2] + v1 * 3\n",
    "print(\"v3 =\", v3)                           \n",
    "\n",
    "v1 = np.array([4, 6])\n",
    "print(\"v3 không thay đổi:\", v3)                \n",
    "print(\"v sau đó:\", v)                         \n",
    "\n",
    "print(\"v + 10:\", v + 10)                     \n",
    "print(\"sqrt(v):\", np.sqrt(v))                   \n",
    "print(\"cos(v):\", np.cos(v))                   \n",
    "print(\"sin(v):\", np.sin(v))\n",
    "\n",
    "print(\"np.dot(v1, v3):\", np.dot(v1, v3))       \n",
    "print(\"v1.dot(v3):\", v1.dot(v3))              \n",
    "print(\"v3.dot(v1):\", v3.dot(v1))                \n"
   ]
  }
 ],
 "metadata": {
  "kernelspec": {
   "display_name": "Python 3",
   "language": "python",
   "name": "python3"
  },
  "language_info": {
   "codemirror_mode": {
    "name": "ipython",
    "version": 3
   },
   "file_extension": ".py",
   "mimetype": "text/x-python",
   "name": "python",
   "nbconvert_exporter": "python",
   "pygments_lexer": "ipython3",
   "version": "3.8.5"
  },
  "orig_nbformat": 4,
  "vscode": {
   "interpreter": {
    "hash": "9650cb4e16cdd4a8e8e2d128bf38d875813998db22a3c986335f89e0cb4d7bb2"
   }
  }
 },
 "nbformat": 4,
 "nbformat_minor": 2
}
