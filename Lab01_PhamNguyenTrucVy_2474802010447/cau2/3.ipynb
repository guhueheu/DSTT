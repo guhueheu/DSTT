{
 "cells": [
  {
   "cell_type": "code",
   "execution_count": 1,
   "metadata": {},
   "outputs": [
    {
     "name": "stdout",
     "output_type": "stream",
     "text": [
      "Biểu thức gốc: x**2 - x*y + y**2\n",
      "Thay x=3, y=2: 7\n",
      "x sau khi thay: x\n",
      "y sau khi thay: y\n"
     ]
    }
   ],
   "source": [
    "from sympy import Symbol\n",
    "\n",
    "x = Symbol('x')\n",
    "y = Symbol('y')\n",
    "bieuthuc = x**2 - x*y + y**2\n",
    "print(\"Biểu thức gốc:\", bieuthuc) \n",
    "\n",
    "giatri = bieuthuc.subs({x: 3, y: 2})\n",
    "print(\"Thay x=3, y=2:\", giatri)  \n",
    "\n",
    "print(\"x sau khi thay:\", x)  \n",
    "print(\"y sau khi thay:\", y) \n"
   ]
  }
 ],
 "metadata": {
  "kernelspec": {
   "display_name": "Python 3",
   "language": "python",
   "name": "python3"
  },
  "language_info": {
   "codemirror_mode": {
    "name": "ipython",
    "version": 3
   },
   "file_extension": ".py",
   "mimetype": "text/x-python",
   "name": "python",
   "nbconvert_exporter": "python",
   "pygments_lexer": "ipython3",
   "version": "3.8.5"
  },
  "orig_nbformat": 4,
  "vscode": {
   "interpreter": {
    "hash": "9650cb4e16cdd4a8e8e2d128bf38d875813998db22a3c986335f89e0cb4d7bb2"
   }
  }
 },
 "nbformat": 4,
 "nbformat_minor": 2
}
