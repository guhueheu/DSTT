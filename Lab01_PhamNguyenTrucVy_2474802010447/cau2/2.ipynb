{
 "cells": [
  {
   "cell_type": "code",
   "execution_count": 3,
   "metadata": {},
   "outputs": [
    {
     "name": "stdout",
     "output_type": "stream",
     "text": [
      "1. Factor và Expand:\n",
      "         ⎛ 2          2⎞\n",
      "(-y + x)⋅⎝y  + x⋅y + x ⎠\n",
      "   3    3\n",
      "- y  + x \n",
      "\n",
      "2. Thay giá trị:\n",
      " 2          2\n",
      "y  - x⋅y + x \n",
      "x=3, y=2: 7\n",
      "Tình huống 1 (x=3, y=x): x**2 - 3*x + 9\n",
      "Tình huống 2 (x=y, y=3): 9\n",
      "Tình huống 3 (y=x, x=3): 9\n",
      "\n",
      "3. Thay x = 1 - y và đơn giản:\n",
      "       2                2\n",
      "(1 - y)  - y⋅(1 - y) + y \n",
      "             2\n",
      "1 - 3⋅y + 3⋅y \n",
      "\n",
      "4. Biểu thức lượng giác:\n",
      "sin(y)⋅cos(x) + sin(x)⋅cos(y)\n",
      "sin(y + x)\n"
     ]
    }
   ],
   "source": [
    "from sympy import symbols, factor, expand, simplify, pprint, init_printing, sin, cos\n",
    "\n",
    "x, y = symbols('x y')\n",
    "init_printing(order='rev-lex')\n",
    "\n",
    "print(\"1. Factor và Expand:\")\n",
    "pprint(factor(x**3 - y**3))             \n",
    "pprint(expand((x - y)*(x**2 + x*y + y**2))) \n",
    "\n",
    "print(\"\\n2. Thay giá trị:\")\n",
    "bt = x**2 - x*y + y**2\n",
    "pprint(bt)\n",
    "print(\"x=3, y=2:\", bt.subs({x:3, y:2}))\n",
    "print(\"Tình huống 1 (x=3, y=x):\", bt.subs({x:3, y:x}))\n",
    "print(\"Tình huống 2 (x=y, y=3):\", bt.subs({x:y, y:3}))\n",
    "print(\"Tình huống 3 (y=x, x=3):\", bt.subs({y:x}).subs({x:3}))\n",
    "\n",
    "print(\"\\n3. Thay x = 1 - y và đơn giản:\")\n",
    "bt_thay = bt.subs({x: 1 - y})\n",
    "pprint(bt_thay)\n",
    "pprint(simplify(bt_thay))\n",
    "\n",
    "print(\"\\n4. Biểu thức lượng giác:\")\n",
    "bt_lg = sin(x)*cos(y) + cos(x)*sin(y)\n",
    "pprint(bt_lg)\n",
    "pprint(simplify(bt_lg))  \n",
    "\n",
    "\n"
   ]
  }
 ],
 "metadata": {
  "kernelspec": {
   "display_name": "Python 3",
   "language": "python",
   "name": "python3"
  },
  "language_info": {
   "codemirror_mode": {
    "name": "ipython",
    "version": 3
   },
   "file_extension": ".py",
   "mimetype": "text/x-python",
   "name": "python",
   "nbconvert_exporter": "python",
   "pygments_lexer": "ipython3",
   "version": "3.8.5"
  },
  "orig_nbformat": 4,
  "vscode": {
   "interpreter": {
    "hash": "9650cb4e16cdd4a8e8e2d128bf38d875813998db22a3c986335f89e0cb4d7bb2"
   }
  }
 },
 "nbformat": 4,
 "nbformat_minor": 2
}
