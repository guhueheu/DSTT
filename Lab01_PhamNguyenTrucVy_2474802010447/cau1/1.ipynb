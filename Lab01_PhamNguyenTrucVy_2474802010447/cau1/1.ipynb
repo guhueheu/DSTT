{
 "cells": [
  {
   "cell_type": "code",
   "execution_count": 1,
   "metadata": {},
   "outputs": [
    {
     "name": "stdout",
     "output_type": "stream",
     "text": [
      "danhsach = [1.0, 3.0, 5.0, 7.0]\n",
      "danhsach_gapdoi = [1.0, 3.0, 5.0, 7.0, 1.0, 3.0, 5.0, 7.0]\n",
      "danhsach * 2 = [1.0, 3.0, 5.0, 7.0, 1.0, 3.0, 5.0, 7.0]\n"
     ]
    }
   ],
   "source": [
    "danhsach1 = [1., 3.]\n",
    "danhsach2 = [5., 7.]\n",
    "\n",
    "danhsach = danhsach1 + danhsach2\n",
    "print(\"danhsach =\", danhsach)  \n",
    "\n",
    "danhsach_gapdoi = 2 * danhsach\n",
    "print(\"danhsach_gapdoi =\", danhsach_gapdoi)  \n",
    "\n",
    "print(\"danhsach * 2 =\", danhsach * 2)  \n"
   ]
  }
 ],
 "metadata": {
  "kernelspec": {
   "display_name": "Python 3",
   "language": "python",
   "name": "python3"
  },
  "language_info": {
   "codemirror_mode": {
    "name": "ipython",
    "version": 3
   },
   "file_extension": ".py",
   "mimetype": "text/x-python",
   "name": "python",
   "nbconvert_exporter": "python",
   "pygments_lexer": "ipython3",
   "version": "3.8.5"
  },
  "orig_nbformat": 4,
  "vscode": {
   "interpreter": {
    "hash": "9650cb4e16cdd4a8e8e2d128bf38d875813998db22a3c986335f89e0cb4d7bb2"
   }
  }
 },
 "nbformat": 4,
 "nbformat_minor": 2
}
