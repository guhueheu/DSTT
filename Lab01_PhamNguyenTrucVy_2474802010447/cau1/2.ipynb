{
 "cells": [
  {
   "cell_type": "code",
   "execution_count": 1,
   "metadata": {},
   "outputs": [
    {
     "name": "stdout",
     "output_type": "stream",
     "text": [
      "zip object: <zip object at 0x000002679A68CCC0>\n",
      "tap_hop = {(4, 'ToanRR', 8), (2, 'ToanCC', 10), (1, 'LaptrinhCB', 7), (3, 'DSTT', 9)}\n",
      "lay_monhoc = ('ToanCC', 'DSTT', 'ToanRR', 'LaptrinhCB')\n"
     ]
    }
   ],
   "source": [
    "mon_hoc = [\"ToanCC\", \"DSTT\", \"ToanRR\", \"LaptrinhCB\"]\n",
    "thu_tu = [2, 3, 4, 1]\n",
    "diem_so = [10, 9, 8, 7]\n",
    "anh_xa = zip(thu_tu, mon_hoc, diem_so)\n",
    "print(\"zip object:\", anh_xa)  \n",
    "\n",
    "tap_hop = set(anh_xa)\n",
    "print(\"tap_hop =\", tap_hop)\n",
    "anh_xa = zip(thu_tu, mon_hoc, diem_so)\n",
    "lay_TT, lay_monhoc, lay_diem = zip(*anh_xa)\n",
    "print(\"lay_monhoc =\", lay_monhoc)\n",
    "\n"
   ]
  }
 ],
 "metadata": {
  "kernelspec": {
   "display_name": "Python 3",
   "language": "python",
   "name": "python3"
  },
  "language_info": {
   "codemirror_mode": {
    "name": "ipython",
    "version": 3
   },
   "file_extension": ".py",
   "mimetype": "text/x-python",
   "name": "python",
   "nbconvert_exporter": "python",
   "pygments_lexer": "ipython3",
   "version": "3.8.5"
  },
  "orig_nbformat": 4,
  "vscode": {
   "interpreter": {
    "hash": "9650cb4e16cdd4a8e8e2d128bf38d875813998db22a3c986335f89e0cb4d7bb2"
   }
  }
 },
 "nbformat": 4,
 "nbformat_minor": 2
}
