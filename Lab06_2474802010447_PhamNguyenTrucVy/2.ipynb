{
 "cells": [
  {
   "cell_type": "code",
   "execution_count": 1,
   "metadata": {},
   "outputs": [
    {
     "name": "stdout",
     "output_type": "stream",
     "text": [
      "Điểm trọng tâm là: [-2.6  2.4  2.4]\n"
     ]
    }
   ],
   "source": [
    "import numpy as np\n",
    "\n",
    "m = 10\n",
    "\n",
    "v1 = np.array([5, -4, 3])\n",
    "v2 = np.array([4, 3, -2])\n",
    "v3 = np.array([-4, -3, -1])\n",
    "v4 = np.array([-9, 8, 6])\n",
    "\n",
    "mi = np.array([2, 2, 2, 4])\n",
    "\n",
    "M = np.array([v1, v2, v3, v4])\n",
    "\n",
    "MT = M.transpose()\n",
    "\n",
    "v = (1.0 / m) * MT.dot(mi)\n",
    "\n",
    "print(\"Điểm trọng tâm là:\", v)\n"
   ]
  }
 ],
 "metadata": {
  "kernelspec": {
   "display_name": "Python 3",
   "language": "python",
   "name": "python3"
  },
  "language_info": {
   "codemirror_mode": {
    "name": "ipython",
    "version": 3
   },
   "file_extension": ".py",
   "mimetype": "text/x-python",
   "name": "python",
   "nbconvert_exporter": "python",
   "pygments_lexer": "ipython3",
   "version": "3.11.0"
  },
  "orig_nbformat": 4,
  "vscode": {
   "interpreter": {
    "hash": "c261aea317cc0286b3b3261fbba9abdec21eaa57589985bb7a274bf54d6cc0a7"
   }
  }
 },
 "nbformat": 4,
 "nbformat_minor": 2
}
