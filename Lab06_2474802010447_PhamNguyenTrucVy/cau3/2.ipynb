{
 "cells": [
  {
   "cell_type": "code",
   "execution_count": 1,
   "metadata": {},
   "outputs": [
    {
     "name": "stdout",
     "output_type": "stream",
     "text": [
      "Ma trận P⁻¹ là:\n",
      "[[-0.3  0.9]\n",
      " [ 0.3  0.1]]\n",
      "\n",
      "A · P =\n",
      "[[ 2.3333  9.    ]\n",
      " [-7.      3.    ]]\n",
      "\n",
      "P · D =\n",
      "[[ 2.3333  9.    ]\n",
      " [-7.      3.    ]]\n",
      "\n",
      "A^1000 tính bằng chéo hóa là:\n",
      "[[-6.25396533e+08 -3.52488701e+08]\n",
      " [-3.52488701e+08  3.14573335e+08]]\n",
      "\n",
      "Ma trận D^2 là:\n",
      "[[49  0]\n",
      " [ 0  9]]\n"
     ]
    }
   ],
   "source": [
    "import numpy as np\n",
    "from numpy.linalg import inv, matrix_power\n",
    "\n",
    "A = np.array([[2, 3],\n",
    "              [3, -6]])\n",
    "\n",
    "D = np.array([[-7, 0],\n",
    "              [0, 3]])\n",
    "\n",
    "P = np.array([[-1.0/3, 3],\n",
    "              [1, 1]])\n",
    "\n",
    "P_inv = inv(P)\n",
    "print(\"Ma trận P⁻¹ là:\")\n",
    "print(np.round(P_inv, 4)) \n",
    "\n",
    "print(\"\\nA · P =\")\n",
    "print(np.round(A @ P, 4))\n",
    "\n",
    "print(\"\\nP · D =\")\n",
    "print(np.round(P @ D, 4))\n",
    "\n",
    "\n",
    "D_pow = matrix_power(D, 1000)\n",
    "\n",
    "A_pow = P @ D_pow @ P_inv\n",
    "print(\"\\nA^1000 tính bằng chéo hóa là:\")\n",
    "print(np.round(A_pow, 4))  \n",
    "\n",
    "print(\"\\nMa trận D^2 là:\")\n",
    "print(D @ D)\n",
    "\n"
   ]
  }
 ],
 "metadata": {
  "kernelspec": {
   "display_name": "Python 3",
   "language": "python",
   "name": "python3"
  },
  "language_info": {
   "codemirror_mode": {
    "name": "ipython",
    "version": 3
   },
   "file_extension": ".py",
   "mimetype": "text/x-python",
   "name": "python",
   "nbconvert_exporter": "python",
   "pygments_lexer": "ipython3",
   "version": "3.11.0"
  },
  "orig_nbformat": 4,
  "vscode": {
   "interpreter": {
    "hash": "c261aea317cc0286b3b3261fbba9abdec21eaa57589985bb7a274bf54d6cc0a7"
   }
  }
 },
 "nbformat": 4,
 "nbformat_minor": 2
}
