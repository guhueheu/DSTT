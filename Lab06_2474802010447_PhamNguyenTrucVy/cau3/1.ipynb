{
 "cells": [
  {
   "cell_type": "code",
   "execution_count": 1,
   "metadata": {},
   "outputs": [
    {
     "name": "stdout",
     "output_type": "stream",
     "text": [
      "Trạng thái sau 100 tuần:\n",
      "  Có việc làm: 0.985507\n",
      "  Thất nghiệp: 0.014493\n",
      "Tỉ lệ thất nghiệp sau 100 tuần: 1.4493%\n",
      "\n",
      "Trạng thái cân bằng:\n",
      "  Có việc làm: 0.985507\n",
      "  Thất nghiệp: 0.014493\n",
      "Tỉ lệ thất nghiệp ở trạng thái cân bằng: 1.4493%\n",
      "\n",
      "Giải bằng sympy:\n",
      "⎧   68         ⎫\n",
      "⎨x: ──, y: 1/69⎬\n",
      "⎩   69         ⎭\n"
     ]
    }
   ],
   "source": [
    "import numpy as np\n",
    "\n",
    "A = np.array([\n",
    "    [0.998, 0.136],\n",
    "    [0.002, 0.864]\n",
    "])\n",
    "\n",
    "v0 = np.array([0.95, 0.05])\n",
    "\n",
    "A_100 = np.linalg.matrix_power(A, 100)\n",
    "\n",
    "v_100 = A_100 @ v0\n",
    "\n",
    "print(\"Trạng thái sau 100 tuần:\")\n",
    "print(\"  Có việc làm:\", round(v_100[0], 6))\n",
    "print(\"  Thất nghiệp:\", round(v_100[1], 6))\n",
    "print(f\"Tỉ lệ thất nghiệp sau 100 tuần: {v_100[1]*100:.4f}%\")\n",
    "\n",
    "coeff_matrix = np.array([\n",
    "    [-0.002, 0.136],\n",
    "    [1, 1]\n",
    "])\n",
    "rhs = np.array([0, 1])\n",
    "\n",
    "pi = np.linalg.solve(coeff_matrix, rhs)\n",
    "\n",
    "print(\"\\nTrạng thái cân bằng:\")\n",
    "print(\"  Có việc làm:\", round(pi[0], 6))\n",
    "print(\"  Thất nghiệp:\", round(pi[1], 6))\n",
    "print(f\"Tỉ lệ thất nghiệp ở trạng thái cân bằng: {pi[1]*100:.4f}%\")\n",
    "\n",
    "import sympy as sym\n",
    "\n",
    "x, y = sym.symbols('x y')\n",
    "xy = sym.Matrix([x, y])\n",
    "\n",
    "A_sym = sym.Matrix([\n",
    "    [1, -68],\n",
    "    [1, 1]\n",
    "])\n",
    "v_sym = sym.Matrix([0, 1])\n",
    "\n",
    "nghiem = sym.solve([A_sym * xy - v_sym], (x, y))\n",
    "print(\"\\nGiải bằng sympy:\")\n",
    "print(sym.pretty(nghiem))"
   ]
  }
 ],
 "metadata": {
  "kernelspec": {
   "display_name": "Python 3",
   "language": "python",
   "name": "python3"
  },
  "language_info": {
   "codemirror_mode": {
    "name": "ipython",
    "version": 3
   },
   "file_extension": ".py",
   "mimetype": "text/x-python",
   "name": "python",
   "nbconvert_exporter": "python",
   "pygments_lexer": "ipython3",
   "version": "3.11.0"
  },
  "orig_nbformat": 4,
  "vscode": {
   "interpreter": {
    "hash": "c261aea317cc0286b3b3261fbba9abdec21eaa57589985bb7a274bf54d6cc0a7"
   }
  }
 },
 "nbformat": 4,
 "nbformat_minor": 2
}
