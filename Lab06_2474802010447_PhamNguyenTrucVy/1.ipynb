{
 "cells": [
  {
   "cell_type": "code",
   "execution_count": 1,
   "metadata": {},
   "outputs": [
    {
     "name": "stdout",
     "output_type": "stream",
     "text": [
      "TÍCH VÔ HƯỚNG (1 chiều):\n",
      "np.inner(a, b) = 32\n",
      "np.dot(a, b)   = 32\n",
      "\n",
      "VỚI MẢNG 2 CHIỀU:\n",
      "np.inner(A, B) =\n",
      "[[17 23]\n",
      " [39 53]]\n",
      "\n",
      "np.dot(A, B) =\n",
      "[[19 22]\n",
      " [43 50]]\n",
      "\n",
      "Lỗi xảy ra: setting an array element with a sequence. The requested array has an inhomogeneous shape after 1 dimensions. The detected shape was (2,) + inhomogeneous part.\n"
     ]
    }
   ],
   "source": [
    "import numpy as np\n",
    "\n",
    "a = np.array([1, 2, 3])\n",
    "b = np.array([4, 5, 6])\n",
    "\n",
    "print(\"TÍCH VÔ HƯỚNG (1 chiều):\")\n",
    "print(\"np.inner(a, b) =\", np.inner(a, b))  \n",
    "print(\"np.dot(a, b)   =\", np.dot(a, b))   \n",
    "print()\n",
    "\n",
    "A = np.array([[1, 2], [3, 4]])\n",
    "B = np.array([[5, 6], [7, 8]])\n",
    "\n",
    "print(\"VỚI MẢNG 2 CHIỀU:\")\n",
    "print(\"np.inner(A, B) =\")\n",
    "print(np.inner(A, B))  \n",
    "print()\n",
    "\n",
    "print(\"np.dot(A, B) =\")\n",
    "print(np.dot(A, B))    \n",
    "print()\n",
    "\n",
    "try:\n",
    "    C = np.array([[1, 2, 3], [1, 1, 1, 1]])  \n",
    "    D = np.array([[4, 5, 6]])\n",
    "    print(\"Thử tính np.inner(C, D):\")\n",
    "    print(np.inner(C, D))  \n",
    "except ValueError as e:\n",
    "    print(\"Lỗi xảy ra:\", e)\n"
   ]
  },
  {
   "cell_type": "code",
   "execution_count": null,
   "metadata": {},
   "outputs": [],
   "source": []
  }
 ],
 "metadata": {
  "kernelspec": {
   "display_name": "Python 3",
   "language": "python",
   "name": "python3"
  },
  "language_info": {
   "codemirror_mode": {
    "name": "ipython",
    "version": 3
   },
   "file_extension": ".py",
   "mimetype": "text/x-python",
   "name": "python",
   "nbconvert_exporter": "python",
   "pygments_lexer": "ipython3",
   "version": "3.11.0"
  },
  "orig_nbformat": 4,
  "vscode": {
   "interpreter": {
    "hash": "c261aea317cc0286b3b3261fbba9abdec21eaa57589985bb7a274bf54d6cc0a7"
   }
  }
 },
 "nbformat": 4,
 "nbformat_minor": 2
}
