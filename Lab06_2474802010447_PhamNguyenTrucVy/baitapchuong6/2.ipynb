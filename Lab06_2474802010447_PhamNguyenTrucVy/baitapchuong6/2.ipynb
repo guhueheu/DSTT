{
 "cells": [
  {
   "cell_type": "code",
   "execution_count": 1,
   "metadata": {},
   "outputs": [
    {
     "name": "stdout",
     "output_type": "stream",
     "text": [
      "a. Khoảng cách giữa u và v: 5.196152422706632\n",
      "b. Góc giữa u và v (radian): 0.2257261285527342\n",
      "   Góc giữa u và v (độ): 12.933154491899135\n",
      "c. Phép chiếu trực giao của u lên v: [1.66233766 2.07792208 2.49350649]\n"
     ]
    }
   ],
   "source": [
    "import numpy as np\n",
    "from numpy.linalg import norm\n",
    "from math import acos, degrees\n",
    "\n",
    "u = np.array([1, 2, 3])\n",
    "v = np.array([4, 5, 6])\n",
    "\n",
    "khoang_cach = norm(u - v)\n",
    "print(\"a. Khoảng cách giữa u và v:\", khoang_cach)\n",
    "\n",
    "tich_vo_huong = np.dot(u, v)\n",
    "norm_u = norm(u)\n",
    "norm_v = norm(v)\n",
    "\n",
    "cos_theta = tich_vo_huong / (norm_u * norm_v)\n",
    "theta_rad = acos(np.clip(cos_theta, -1.0, 1.0)) \n",
    "theta_deg = degrees(theta_rad)\n",
    "\n",
    "print(\"b. Góc giữa u và v (radian):\", theta_rad)\n",
    "print(\"   Góc giữa u và v (độ):\", theta_deg)\n",
    "\n",
    "phan_so = tich_vo_huong / np.dot(v, v)\n",
    "phep_chieu = phan_so * v\n",
    "\n",
    "print(\"c. Phép chiếu trực giao của u lên v:\", phep_chieu)\n"
   ]
  }
 ],
 "metadata": {
  "kernelspec": {
   "display_name": "Python 3",
   "language": "python",
   "name": "python3"
  },
  "language_info": {
   "codemirror_mode": {
    "name": "ipython",
    "version": 3
   },
   "file_extension": ".py",
   "mimetype": "text/x-python",
   "name": "python",
   "nbconvert_exporter": "python",
   "pygments_lexer": "ipython3",
   "version": "3.11.0"
  },
  "orig_nbformat": 4,
  "vscode": {
   "interpreter": {
    "hash": "c261aea317cc0286b3b3261fbba9abdec21eaa57589985bb7a274bf54d6cc0a7"
   }
  }
 },
 "nbformat": 4,
 "nbformat_minor": 2
}
