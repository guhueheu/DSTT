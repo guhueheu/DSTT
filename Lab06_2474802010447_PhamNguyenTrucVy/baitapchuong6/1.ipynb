{
 "cells": [
  {
   "cell_type": "code",
   "execution_count": 1,
   "metadata": {},
   "outputs": [
    {
     "name": "stdout",
     "output_type": "stream",
     "text": [
      "Cách a (dot): 3.7416573867739413\n",
      "Cách b (@): 3.7416573867739413\n",
      "Cách c (inner): 3.7416573867739413\n",
      "Cách d (lambda): 3.7416573867739413\n",
      "\n",
      "Tất cả các cách có cùng kết quả?: True\n"
     ]
    }
   ],
   "source": [
    "import numpy as np\n",
    "import math\n",
    "\n",
    "a = np.array([1, 2, 3])\n",
    "\n",
    "mag_a = np.sqrt(a.dot(a))\n",
    "print(\"Cách a (dot):\", mag_a)\n",
    "\n",
    "mag_b = np.sqrt(a @ a)\n",
    "print(\"Cách b (@):\", mag_b)\n",
    "\n",
    "mag_c = np.sqrt(np.inner(a, a))\n",
    "print(\"Cách c (inner):\", mag_c)\n",
    "\n",
    "mag_d = lambda x: math.sqrt(sum(i ** 2 for i in x))\n",
    "print(\"Cách d (lambda):\", mag_d(a))\n",
    "\n",
    "print(\"\\nTất cả các cách có cùng kết quả?:\", \n",
    "      np.allclose([mag_a, mag_b, mag_c, mag_d(a)], mag_a))\n"
   ]
  }
 ],
 "metadata": {
  "kernelspec": {
   "display_name": "Python 3",
   "language": "python",
   "name": "python3"
  },
  "language_info": {
   "codemirror_mode": {
    "name": "ipython",
    "version": 3
   },
   "file_extension": ".py",
   "mimetype": "text/x-python",
   "name": "python",
   "nbconvert_exporter": "python",
   "pygments_lexer": "ipython3",
   "version": "3.11.0"
  },
  "orig_nbformat": 4,
  "vscode": {
   "interpreter": {
    "hash": "c261aea317cc0286b3b3261fbba9abdec21eaa57589985bb7a274bf54d6cc0a7"
   }
  }
 },
 "nbformat": 4,
 "nbformat_minor": 2
}
