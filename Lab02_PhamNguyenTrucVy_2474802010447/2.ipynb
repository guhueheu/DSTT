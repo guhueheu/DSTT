{
 "cells": [
  {
   "cell_type": "code",
   "execution_count": 1,
   "metadata": {},
   "outputs": [
    {
     "name": "stdout",
     "output_type": "stream",
     "text": [
      "scores: [-1  1  2 -3  5 -4]\n",
      "scores >= 0: [False  True  True False  True False]\n",
      "scores < 0: [ True False False  True False  True]\n",
      "Phân loại 2 nhóm: ['so am' 'so duong' 'so duong' 'so am' 'so duong' 'so am']\n",
      "Phân loại 3 nhóm: ['so am' 'so duong' 'so duong' 'so 0' 'so am' 'so duong' 'so 0' 'so am']\n"
     ]
    }
   ],
   "source": [
    "import numpy as np\n",
    "\n",
    "scores = np.array([-1, 1, 2, -3, 5, -4])\n",
    "print(\"scores:\", scores)\n",
    "print(\"scores >= 0:\", scores >= 0)\n",
    "\n",
    "print(\"scores < 0:\", scores < 0)\n",
    "\n",
    "result = np.select([scores >= 0, scores < 0], ['so duong', 'so am'])\n",
    "print(\"Phân loại 2 nhóm:\", result)\n",
    "\n",
    "scores = np.array([-1, 1, 2, 0, -3, 5, 0, -4])\n",
    "result = np.select([scores > 0, scores == 0, scores < 0], ['so duong', 'so 0', 'so am'])\n",
    "print(\"Phân loại 3 nhóm:\", result)\n",
    "\n"
   ]
  }
 ],
 "metadata": {
  "kernelspec": {
   "display_name": "Python 3",
   "language": "python",
   "name": "python3"
  },
  "language_info": {
   "codemirror_mode": {
    "name": "ipython",
    "version": 3
   },
   "file_extension": ".py",
   "mimetype": "text/x-python",
   "name": "python",
   "nbconvert_exporter": "python",
   "pygments_lexer": "ipython3",
   "version": "3.8.5"
  },
  "orig_nbformat": 4,
  "vscode": {
   "interpreter": {
    "hash": "9650cb4e16cdd4a8e8e2d128bf38d875813998db22a3c986335f89e0cb4d7bb2"
   }
  }
 },
 "nbformat": 4,
 "nbformat_minor": 2
}
