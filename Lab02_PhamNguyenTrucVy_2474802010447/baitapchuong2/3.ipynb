{
 "cells": [
  {
   "cell_type": "code",
   "execution_count": 1,
   "metadata": {},
   "outputs": [
    {
     "name": "stdout",
     "output_type": "stream",
     "text": [
      "F^5 =\n",
      "[[8 5]\n",
      " [5 3]]\n",
      "Theo công thức:\n",
      "[[8 5]\n",
      " [5 3]]\n",
      "Ma trận Fk đúng: True\n"
     ]
    }
   ],
   "source": [
    "import numpy as np\n",
    "\n",
    "def fibonacci_matrix_power(k):\n",
    "    F = np.array([[1,1],\n",
    "                  [1,0]])\n",
    "    Fk = np.linalg.matrix_power(F, k)\n",
    "    return Fk\n",
    "\n",
    "def fibonacci(n):\n",
    "    if n == 0:\n",
    "        return 0\n",
    "    elif n == 1:\n",
    "        return 1\n",
    "    else:\n",
    "        a,b = 0,1\n",
    "        for _ in range(2,n+1):\n",
    "            a,b = b, a+b\n",
    "        return b\n",
    "\n",
    "k = 5 \n",
    "\n",
    "Fk = fibonacci_matrix_power(k)\n",
    "print(f\"F^{k} =\\n{Fk}\")\n",
    "\n",
    "F_k_plus_1 = fibonacci(k+1)\n",
    "F_k = fibonacci(k)\n",
    "F_k_minus_1 = fibonacci(k-1)\n",
    "\n",
    "print(\"Theo công thức:\")\n",
    "print(np.array([[F_k_plus_1, F_k],\n",
    "                [F_k, F_k_minus_1]]))\n",
    "\n",
    "print(\"Ma trận Fk đúng:\", np.array_equal(Fk, np.array([[F_k_plus_1, F_k],\n",
    "                                                       [F_k, F_k_minus_1]])))\n"
   ]
  }
 ],
 "metadata": {
  "kernelspec": {
   "display_name": "Python 3",
   "language": "python",
   "name": "python3"
  },
  "language_info": {
   "codemirror_mode": {
    "name": "ipython",
    "version": 3
   },
   "file_extension": ".py",
   "mimetype": "text/x-python",
   "name": "python",
   "nbconvert_exporter": "python",
   "pygments_lexer": "ipython3",
   "version": "3.8.5"
  },
  "orig_nbformat": 4,
  "vscode": {
   "interpreter": {
    "hash": "9650cb4e16cdd4a8e8e2d128bf38d875813998db22a3c986335f89e0cb4d7bb2"
   }
  }
 },
 "nbformat": 4,
 "nbformat_minor": 2
}
