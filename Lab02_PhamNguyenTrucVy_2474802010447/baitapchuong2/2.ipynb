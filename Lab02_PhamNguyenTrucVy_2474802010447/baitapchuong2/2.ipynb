{
 "cells": [
  {
   "cell_type": "code",
   "execution_count": 1,
   "metadata": {},
   "outputs": [
    {
     "name": "stdout",
     "output_type": "stream",
     "text": [
      "Problem 1 (sympy): {x: 0, y: 2}\n",
      "Problem 2 (sympy): {x: 3, y: 1, z: 2}\n",
      "Problem 3 (sympy): {a: 1, b: -4, c: 7}\n",
      "Problem 4 (sympy): {a: -1/9, b: -2/3, c: 10/9}\n"
     ]
    }
   ],
   "source": [
    "import sympy as sp\n",
    "\n",
    "x, y, z, a, b, c = sp.symbols('x y z a b c')\n",
    "\n",
    "eq1_p1 = sp.Eq(x - y, -2)\n",
    "eq2_p1 = sp.Eq(2*x + 3*y, 6)\n",
    "sol_p1 = sp.solve([eq1_p1, eq2_p1], (x, y))\n",
    "print(\"Problem 1 (sympy):\", sol_p1)\n",
    "\n",
    "eq1_p2 = sp.Eq(x - y, 2)\n",
    "eq2_p2 = sp.Eq(2*x - y - z, 3)\n",
    "eq3_p2 = sp.Eq(x + y + z, 6)\n",
    "sol_p2 = sp.solve([eq1_p2, eq2_p2, eq3_p2], (x, y, z))\n",
    "print(\"Problem 2 (sympy):\", sol_p2)\n",
    "\n",
    "a, b, c = sp.symbols('a b c')\n",
    "eq1_p3 = sp.Eq(a + b + c, 4)\n",
    "eq2_p3 = sp.Eq(4*a + 2*b + c, 3)\n",
    "eq3_p3 = sp.Eq(9*a + 3*b + c, 4)\n",
    "sol_p3 = sp.solve([eq1_p3, eq2_p3, eq3_p3], (a, b, c))\n",
    "print(\"Problem 3 (sympy):\", sol_p3)\n",
    "\n",
    "a, b, c = sp.symbols('a b c')\n",
    "eq1_p4 = sp.Eq(a + c, 1)\n",
    "eq2_p4 = sp.Eq(a + b - 2*c, -3)\n",
    "eq3_p4 = sp.Eq(-2*a + 2*b + c, 0)\n",
    "sol_p4 = sp.solve([eq1_p4, eq2_p4, eq3_p4], (a, b, c))\n",
    "print(\"Problem 4 (sympy):\", sol_p4)\n"
   ]
  }
 ],
 "metadata": {
  "kernelspec": {
   "display_name": "Python 3",
   "language": "python",
   "name": "python3"
  },
  "language_info": {
   "codemirror_mode": {
    "name": "ipython",
    "version": 3
   },
   "file_extension": ".py",
   "mimetype": "text/x-python",
   "name": "python",
   "nbconvert_exporter": "python",
   "pygments_lexer": "ipython3",
   "version": "3.8.5"
  },
  "orig_nbformat": 4,
  "vscode": {
   "interpreter": {
    "hash": "9650cb4e16cdd4a8e8e2d128bf38d875813998db22a3c986335f89e0cb4d7bb2"
   }
  }
 },
 "nbformat": 4,
 "nbformat_minor": 2
}
