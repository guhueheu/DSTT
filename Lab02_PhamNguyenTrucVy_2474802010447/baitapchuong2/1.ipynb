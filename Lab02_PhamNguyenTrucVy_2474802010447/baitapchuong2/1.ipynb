{
 "cells": [
  {
   "cell_type": "code",
   "execution_count": 2,
   "metadata": {},
   "outputs": [
    {
     "name": "stdout",
     "output_type": "stream",
     "text": [
      "Problem 1 - Giao điểm 2 đường thẳng: [0. 2.]\n",
      "Problem 2 - Giao điểm 3 mặt phẳng: [3. 1. 2.]\n",
      "Problem 3 - Hệ số đa thức (a, b, c): [ 1. -4.  7.]\n",
      "Problem 4 - Hệ số a, b, c phân rã: [-0.11111111 -0.66666667  1.11111111]\n"
     ]
    }
   ],
   "source": [
    "import numpy as np\n",
    "\n",
    "A1 = np.array([[1, -1],\n",
    "               [2, 3]])\n",
    "B1 = np.array([-2, 6])\n",
    "\n",
    "point1 = np.linalg.solve(A1, B1)\n",
    "print(\"Problem 1 - Giao điểm 2 đường thẳng:\", point1)\n",
    "\n",
    "A2 = np.array([[1, -1, 0],\n",
    "               [2, -1, -1],\n",
    "               [1, 1, 1]])\n",
    "B2 = np.array([2, 3, 6])\n",
    "\n",
    "point2 = np.linalg.solve(A2, B2)\n",
    "print(\"Problem 2 - Giao điểm 3 mặt phẳng:\", point2)\n",
    "\n",
    "\n",
    "A3 = np.array([[1**2, 1, 1],\n",
    "               [2**2, 2, 1],\n",
    "               [3**2, 3, 1]])\n",
    "B3 = np.array([4, 3, 4])\n",
    "\n",
    "coeffs = np.linalg.solve(A3, B3)\n",
    "print(\"Problem 3 - Hệ số đa thức (a, b, c):\", coeffs)\n",
    "\n",
    "\n",
    "A4 = np.array([[1, 0, 1],\n",
    "               [1, 1, -2],\n",
    "               [-2, 2, 1]])\n",
    "B4 = np.array([1, -3, 0])\n",
    "\n",
    "coeffs4 = np.linalg.solve(A4, B4)\n",
    "print(\"Problem 4 - Hệ số a, b, c phân rã:\", coeffs4)\n",
    "\n"
   ]
  }
 ],
 "metadata": {
  "kernelspec": {
   "display_name": "Python 3",
   "language": "python",
   "name": "python3"
  },
  "language_info": {
   "codemirror_mode": {
    "name": "ipython",
    "version": 3
   },
   "file_extension": ".py",
   "mimetype": "text/x-python",
   "name": "python",
   "nbconvert_exporter": "python",
   "pygments_lexer": "ipython3",
   "version": "3.8.5"
  },
  "orig_nbformat": 4,
  "vscode": {
   "interpreter": {
    "hash": "9650cb4e16cdd4a8e8e2d128bf38d875813998db22a3c986335f89e0cb4d7bb2"
   }
  }
 },
 "nbformat": 4,
 "nbformat_minor": 2
}
