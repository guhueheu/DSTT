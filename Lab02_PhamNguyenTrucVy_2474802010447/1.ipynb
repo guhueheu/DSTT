{
 "cells": [
  {
   "cell_type": "code",
   "execution_count": 1,
   "metadata": {},
   "outputs": [
    {
     "name": "stdout",
     "output_type": "stream",
     "text": [
      "scale(10, v): [30, 50, 70]\n",
      "sumvector(v, w): [5, 9, 13]\n",
      "dotvector(v, w): 68\n",
      "lenvector(w): 56\n"
     ]
    }
   ],
   "source": [
    "\n",
    "def scale(a, v):\n",
    "    return [a * vi for vi in v]\n",
    "\n",
    "v = [3, 5, 7]\n",
    "print(\"scale(10, v):\", scale(10, v))  \n",
    "\n",
    "def sumvector(v, w):\n",
    "    return [vi + wi for (vi, wi) in zip(v, w)]\n",
    "\n",
    "v = [3, 5, 7]\n",
    "w = [2, 4, 6]\n",
    "print(\"sumvector(v, w):\", sumvector(v, w))  \n",
    "\n",
    "def dotvector(v, w):\n",
    "    return sum([vi * wi for (vi, wi) in zip(v, w)])\n",
    "\n",
    "print(\"dotvector(v, w):\", dotvector(v, w))  \n",
    "\n",
    "def lenvector(v):\n",
    "    return dotvector(v, v)\n",
    "\n",
    "print(\"lenvector(w):\", lenvector(w))  \n",
    "\n"
   ]
  }
 ],
 "metadata": {
  "kernelspec": {
   "display_name": "Python 3",
   "language": "python",
   "name": "python3"
  },
  "language_info": {
   "codemirror_mode": {
    "name": "ipython",
    "version": 3
   },
   "file_extension": ".py",
   "mimetype": "text/x-python",
   "name": "python",
   "nbconvert_exporter": "python",
   "pygments_lexer": "ipython3",
   "version": "3.8.5"
  },
  "orig_nbformat": 4,
  "vscode": {
   "interpreter": {
    "hash": "9650cb4e16cdd4a8e8e2d128bf38d875813998db22a3c986335f89e0cb4d7bb2"
   }
  }
 },
 "nbformat": 4,
 "nbformat_minor": 2
}
