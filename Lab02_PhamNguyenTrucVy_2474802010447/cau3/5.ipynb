{
 "cells": [
  {
   "cell_type": "code",
   "execution_count": 1,
   "metadata": {},
   "outputs": [
    {
     "name": "stdout",
     "output_type": "stream",
     "text": [
      "{x1: x4 + 160, x2: x4 - 80, x3: x4 + 520}\n"
     ]
    }
   ],
   "source": [
    "import sympy as sp\n",
    "from sympy import Symbol\n",
    "\n",
    "x1 = Symbol('x1')\n",
    "x2 = Symbol('x2')\n",
    "x3 = Symbol('x3')\n",
    "x4 = Symbol('x4')\n",
    "\n",
    "pt1 = x4 + 610 - 450 - x1   \n",
    "pt2 = x1 + 400 - x2 - 640   \n",
    "pt3 = x2 + 600 - x3         \n",
    "pt4 = x3 - x4 - 520       \n",
    "\n",
    "nghiem = sp.solve((pt1, pt2, pt3, pt4), (x1, x2, x3, x4))\n",
    "print(nghiem)\n"
   ]
  }
 ],
 "metadata": {
  "kernelspec": {
   "display_name": "Python 3",
   "language": "python",
   "name": "python3"
  },
  "language_info": {
   "codemirror_mode": {
    "name": "ipython",
    "version": 3
   },
   "file_extension": ".py",
   "mimetype": "text/x-python",
   "name": "python",
   "nbconvert_exporter": "python",
   "pygments_lexer": "ipython3",
   "version": "3.8.5"
  },
  "orig_nbformat": 4,
  "vscode": {
   "interpreter": {
    "hash": "9650cb4e16cdd4a8e8e2d128bf38d875813998db22a3c986335f89e0cb4d7bb2"
   }
  }
 },
 "nbformat": 4,
 "nbformat_minor": 2
}
