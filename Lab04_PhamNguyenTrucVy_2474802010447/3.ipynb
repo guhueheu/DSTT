{
 "cells": [
  {
   "cell_type": "code",
   "execution_count": 1,
   "metadata": {},
   "outputs": [
    {
     "name": "stdout",
     "output_type": "stream",
     "text": [
      "==== Hệ 2 phương trình ====\n",
      "detA = -14.0\n",
      "detA1 = -28.0\n",
      "detA2 = 14.000000000000004\n",
      "Nghiệm hệ 2 phương trình là: x1 = 2.0 , x2 = -1.0000000000000002\n",
      "\n",
      "==== Hệ 3 phương trình ====\n",
      "det = 0.0\n",
      "detX = 0.0\n",
      "detY = 0.0\n",
      "detZ = 0.0\n",
      "Hệ phương trình vô nghiệm hoặc vô số nghiệm\n"
     ]
    }
   ],
   "source": [
    "import numpy as np\n",
    "from scipy import linalg\n",
    "\n",
    "def tinhtoan_dinhthuc(mat):\n",
    "    return linalg.det(mat)\n",
    "\n",
    "print(\"==== Hệ 2 phương trình ====\")\n",
    "A = np.array([[4, -2],\n",
    "              [3, -5]])\n",
    "A1 = np.array([[10, -2],\n",
    "               [11, -5]])\n",
    "A2 = np.array([[4, 10],\n",
    "               [3, 11]])\n",
    "\n",
    "detA = tinhtoan_dinhthuc(A)\n",
    "detA1 = tinhtoan_dinhthuc(A1)\n",
    "detA2 = tinhtoan_dinhthuc(A2)\n",
    "print(\"detA =\", detA)\n",
    "print(\"detA1 =\", detA1)\n",
    "print(\"detA2 =\", detA2)\n",
    "\n",
    "if detA != 0:\n",
    "    x1 = detA1 / detA\n",
    "    x2 = detA2 / detA\n",
    "    print(\"Nghiệm hệ 2 phương trình là: x1 =\", x1, \", x2 =\", x2)\n",
    "else:\n",
    "    print(\"Hệ phương trình vô nghiệm hoặc vô số nghiệm\")\n",
    "\n",
    "print(\"\\n==== Hệ 3 phương trình ====\")\n",
    "\n",
    "\n",
    "A = np.array([\n",
    "    [-1,  2, -3],\n",
    "    [ 2, -2,  1],\n",
    "    [ 3, -4,  4]\n",
    "])\n",
    "\n",
    "B = np.array([1, 3, 2])\n",
    "\n",
    "A_x = A.copy()\n",
    "A_x[:,0] = B\n",
    "\n",
    "A_y = A.copy()\n",
    "A_y[:,1] = B\n",
    "\n",
    "A_z = A.copy()\n",
    "A_z[:,2] = B\n",
    "\n",
    "det = tinhtoan_dinhthuc(A)\n",
    "detX = tinhtoan_dinhthuc(A_x)\n",
    "detY = tinhtoan_dinhthuc(A_y)\n",
    "detZ = tinhtoan_dinhthuc(A_z)\n",
    "\n",
    "print(\"det =\", det)\n",
    "print(\"detX =\", detX)\n",
    "print(\"detY =\", detY)\n",
    "print(\"detZ =\", detZ)\n",
    "\n",
    "if det != 0:\n",
    "    x = detX / det\n",
    "    y = detY / det\n",
    "    z = detZ / det\n",
    "    print(f\"Nghiệm hệ 3 phương trình là: x = {x}, y = {y}, z = {z}\")\n",
    "else:\n",
    "    print(\"Hệ phương trình vô nghiệm hoặc vô số nghiệm\")\n"
   ]
  }
 ],
 "metadata": {
  "kernelspec": {
   "display_name": "Python 3",
   "language": "python",
   "name": "python3"
  },
  "language_info": {
   "codemirror_mode": {
    "name": "ipython",
    "version": 3
   },
   "file_extension": ".py",
   "mimetype": "text/x-python",
   "name": "python",
   "nbconvert_exporter": "python",
   "pygments_lexer": "ipython3",
   "version": "3.8.5"
  },
  "orig_nbformat": 4,
  "vscode": {
   "interpreter": {
    "hash": "9650cb4e16cdd4a8e8e2d128bf38d875813998db22a3c986335f89e0cb4d7bb2"
   }
  }
 },
 "nbformat": 4,
 "nbformat_minor": 2
}
