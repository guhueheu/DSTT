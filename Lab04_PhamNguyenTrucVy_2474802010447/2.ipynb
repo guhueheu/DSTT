{
 "cells": [
  {
   "cell_type": "code",
   "execution_count": 1,
   "metadata": {},
   "outputs": [
    {
     "name": "stdout",
     "output_type": "stream",
     "text": [
      "Ma trận A:\n",
      "[[ 3  5 -8]\n",
      " [ 4 12 -1]\n",
      " [ 2  5  3]]\n",
      "\n",
      "Định thức tính theo định nghĩa: 85\n",
      "Định thức tính theo numpy.linalg.det: 85.00000000000001\n"
     ]
    }
   ],
   "source": [
    "import numpy as np\n",
    "from itertools import permutations\n",
    "\n",
    "def sgn_by_def(sigma):\n",
    "    \"\"\"\n",
    "    Tính dấu (sign) của một hoán vị sigma.\n",
    "    sigma là tuple hoặc list chứa các số 0-based.\n",
    "    \"\"\"\n",
    "    inv_count = 0\n",
    "    n = len(sigma)\n",
    "    for i in range(n):\n",
    "        for j in range(i+1, n):\n",
    "            if sigma[i] > sigma[j]:\n",
    "                inv_count += 1\n",
    "    return 1 if inv_count % 2 == 0 else -1\n",
    "\n",
    "def det_by_definition(A):\n",
    "    \"\"\"\n",
    "    Tính định thức của ma trận vuông A theo định nghĩa:\n",
    "    det(A) = sum_{sigma in S_n} sgn(sigma) * product_{i=1 to n} A[i, sigma[i]]\n",
    "    \"\"\"\n",
    "    n = A.shape[0]\n",
    "    assert A.shape[0] == A.shape[1], \"Ma trận phải là vuông\"\n",
    "    \n",
    "    det_val = 0\n",
    "    for sigma in permutations(range(n)):\n",
    "        sgn = sgn_by_def(sigma)\n",
    "        prod = 1\n",
    "        for i in range(n):\n",
    "            prod *= A[i, sigma[i]]\n",
    "        det_val += sgn * prod\n",
    "    return det_val\n",
    "\n",
    "if __name__ == \"__main__\":\n",
    "    A = np.array([\n",
    "        [3, 5, -8],\n",
    "        [4, 12, -1],\n",
    "        [2, 5, 3]\n",
    "    ])\n",
    "    \n",
    "    det_calc = det_by_definition(A)\n",
    "    det_numpy = np.linalg.det(A)\n",
    "    \n",
    "    print(\"Ma trận A:\")\n",
    "    print(A)\n",
    "    print(\"\\nĐịnh thức tính theo định nghĩa:\", det_calc)\n",
    "    print(\"Định thức tính theo numpy.linalg.det:\", det_numpy)\n"
   ]
  }
 ],
 "metadata": {
  "kernelspec": {
   "display_name": "Python 3",
   "language": "python",
   "name": "python3"
  },
  "language_info": {
   "codemirror_mode": {
    "name": "ipython",
    "version": 3
   },
   "file_extension": ".py",
   "mimetype": "text/x-python",
   "name": "python",
   "nbconvert_exporter": "python",
   "pygments_lexer": "ipython3",
   "version": "3.8.5"
  },
  "orig_nbformat": 4,
  "vscode": {
   "interpreter": {
    "hash": "9650cb4e16cdd4a8e8e2d128bf38d875813998db22a3c986335f89e0cb4d7bb2"
   }
  }
 },
 "nbformat": 4,
 "nbformat_minor": 2
}
