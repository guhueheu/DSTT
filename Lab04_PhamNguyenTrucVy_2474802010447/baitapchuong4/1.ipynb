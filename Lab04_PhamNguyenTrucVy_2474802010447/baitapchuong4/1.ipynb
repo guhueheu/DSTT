{
 "cells": [
  {
   "cell_type": "code",
   "execution_count": 1,
   "metadata": {},
   "outputs": [
    {
     "name": "stdout",
     "output_type": "stream",
     "text": [
      "Ma trận A:\n",
      "[[1 2 3]\n",
      " [0 4 5]\n",
      " [1 0 6]]\n",
      "\n",
      "Ma trận hệ số kép (cofactor matrix):\n",
      "[[ 24.   5.  -4.]\n",
      " [-12.   3.   2.]\n",
      " [ -2.  -5.   4.]]\n",
      "\n",
      "Ma trận liên hợp (adjoint matrix):\n",
      "[[ 24. -12.  -2.]\n",
      " [  5.   3.  -5.]\n",
      " [ -4.   2.   4.]]\n"
     ]
    }
   ],
   "source": [
    "import numpy as np\n",
    "\n",
    "def minor(A, i, j):\n",
    "    \"\"\"Trả về định thức ma trận con bằng cách loại bỏ hàng i và cột j.\"\"\"\n",
    "    minor_matrix = np.delete(np.delete(A, i, axis=0), j, axis=1)\n",
    "    return np.linalg.det(minor_matrix)\n",
    "\n",
    "def cofactor_matrix(A):\n",
    "    \"\"\"Tính ma trận hệ số kép (cofactor matrix).\"\"\"\n",
    "    n = A.shape[0]\n",
    "    C = np.zeros_like(A, dtype=float)\n",
    "    for i in range(n):\n",
    "        for j in range(n):\n",
    "            C[i, j] = ((-1) ** (i + j)) * minor(A, i, j)\n",
    "    return C\n",
    "\n",
    "def adjoint_matrix(A):\n",
    "    \"\"\"Tính ma trận liên hợp (adjoint matrix).\"\"\"\n",
    "    C = cofactor_matrix(A)\n",
    "    return C.T\n",
    "\n",
    "if __name__ == \"__main__\":\n",
    "    A = np.array([[1, 2, 3],\n",
    "                  [0, 4, 5],\n",
    "                  [1, 0, 6]])\n",
    "    \n",
    "    print(\"Ma trận A:\")\n",
    "    print(A)\n",
    "    \n",
    "    C = cofactor_matrix(A)\n",
    "    print(\"\\nMa trận hệ số kép (cofactor matrix):\")\n",
    "    print(C)\n",
    "    \n",
    "    adj = adjoint_matrix(A)\n",
    "    print(\"\\nMa trận liên hợp (adjoint matrix):\")\n",
    "    print(adj)\n"
   ]
  }
 ],
 "metadata": {
  "kernelspec": {
   "display_name": "Python 3",
   "language": "python",
   "name": "python3"
  },
  "language_info": {
   "codemirror_mode": {
    "name": "ipython",
    "version": 3
   },
   "file_extension": ".py",
   "mimetype": "text/x-python",
   "name": "python",
   "nbconvert_exporter": "python",
   "pygments_lexer": "ipython3",
   "version": "3.8.5"
  },
  "orig_nbformat": 4,
  "vscode": {
   "interpreter": {
    "hash": "9650cb4e16cdd4a8e8e2d128bf38d875813998db22a3c986335f89e0cb4d7bb2"
   }
  }
 },
 "nbformat": 4,
 "nbformat_minor": 2
}
