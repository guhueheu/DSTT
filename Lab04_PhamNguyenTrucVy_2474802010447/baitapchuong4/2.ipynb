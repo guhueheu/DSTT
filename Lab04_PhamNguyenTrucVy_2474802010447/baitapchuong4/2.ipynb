{
 "cells": [
  {
   "cell_type": "code",
   "execution_count": 1,
   "metadata": {},
   "outputs": [
    {
     "name": "stdout",
     "output_type": "stream",
     "text": [
      "Phương trình đường tròn đi qua 3 điểm [(1, 2), (4, 6), (5, 1)]\n",
      "      2               2              \n",
      "- 19⋅x  + 131⋅x - 19⋅y  + 125⋅y - 286\n",
      "\n",
      "Phương trình dạng det = 0, có thể viết lại thành dạng đường tròn chuẩn.\n"
     ]
    }
   ],
   "source": [
    "import sympy as sp\n",
    "\n",
    "def circle_equation_through_3points(points):\n",
    "    \"\"\"\n",
    "    Tìm phương trình đường tròn đi qua 3 điểm.\n",
    "    points: list gồm 3 tuple (x_i, y_i)\n",
    "    \"\"\"\n",
    "    x, y = sp.symbols('x y')\n",
    "  \n",
    "    mat = sp.Matrix([\n",
    "        [x**2 + y**2, x, y, 1],\n",
    "        [points[0][0]**2 + points[0][1]**2, points[0][0], points[0][1], 1],\n",
    "        [points[1][0]**2 + points[1][1]**2, points[1][0], points[1][1], 1],\n",
    "        [points[2][0]**2 + points[2][1]**2, points[2][0], points[2][1], 1]\n",
    "    ])\n",
    "    \n",
    "    det = mat.det()\n",
    "   \n",
    "    eq = sp.simplify(det)\n",
    "    \n",
    "    return eq\n",
    "\n",
    "if __name__ == \"__main__\":\n",
    "    points = [(1, 2), (4, 6), (5, 1)]\n",
    "    eq = circle_equation_through_3points(points)\n",
    "    print(\"Phương trình đường tròn đi qua 3 điểm\", points)\n",
    "    sp.pprint(eq)\n",
    "    print(\"\\nPhương trình dạng det = 0, có thể viết lại thành dạng đường tròn chuẩn.\")\n"
   ]
  }
 ],
 "metadata": {
  "kernelspec": {
   "display_name": "Python 3",
   "language": "python",
   "name": "python3"
  },
  "language_info": {
   "codemirror_mode": {
    "name": "ipython",
    "version": 3
   },
   "file_extension": ".py",
   "mimetype": "text/x-python",
   "name": "python",
   "nbconvert_exporter": "python",
   "pygments_lexer": "ipython3",
   "version": "3.8.5"
  },
  "orig_nbformat": 4,
  "vscode": {
   "interpreter": {
    "hash": "9650cb4e16cdd4a8e8e2d128bf38d875813998db22a3c986335f89e0cb4d7bb2"
   }
  }
 },
 "nbformat": 4,
 "nbformat_minor": 2
}
