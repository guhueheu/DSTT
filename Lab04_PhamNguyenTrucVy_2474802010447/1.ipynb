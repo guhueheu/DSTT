{
 "cells": [
  {
   "cell_type": "code",
   "execution_count": 1,
   "metadata": {},
   "outputs": [
    {
     "name": "stdout",
     "output_type": "stream",
     "text": [
      "1\n",
      "-1\n",
      "1\n",
      "1\n"
     ]
    }
   ],
   "source": [
    "import numpy as np\n",
    "\n",
    "def sgn_by_def(sigma):\n",
    "    n = len(sigma)\n",
    "    tu_so = 1\n",
    "    mau_so = 1\n",
    "    for i in range(n):\n",
    "        for j in range(i+1, n):\n",
    "            tu_so *= (sigma[j] - sigma[i])\n",
    "            mau_so *= (j+1 - (i+1))  \n",
    "    return int(np.sign(tu_so / mau_so))\n",
    "\n",
    "\n",
    "n = 4\n",
    "sigma = np.array([4,3,2,1])\n",
    "print(sgn_by_def(sigma))   \n",
    "\n",
    "sigma = np.array([2,1,3,4])\n",
    "print(sgn_by_def(sigma))   \n",
    "\n",
    "sigma = np.array([1,2,3,4])\n",
    "print(sgn_by_def(sigma))  \n",
    "\n",
    "sigma = np.array([4,3,2,1])\n",
    "print(sgn_by_def(sigma))   \n"
   ]
  }
 ],
 "metadata": {
  "kernelspec": {
   "display_name": "Python 3",
   "language": "python",
   "name": "python3"
  },
  "language_info": {
   "codemirror_mode": {
    "name": "ipython",
    "version": 3
   },
   "file_extension": ".py",
   "mimetype": "text/x-python",
   "name": "python",
   "nbconvert_exporter": "python",
   "pygments_lexer": "ipython3",
   "version": "3.8.5"
  },
  "orig_nbformat": 4,
  "vscode": {
   "interpreter": {
    "hash": "9650cb4e16cdd4a8e8e2d128bf38d875813998db22a3c986335f89e0cb4d7bb2"
   }
  }
 },
 "nbformat": 4,
 "nbformat_minor": 2
}
