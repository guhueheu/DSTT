{
 "cells": [
  {
   "cell_type": "code",
   "execution_count": 1,
   "metadata": {},
   "outputs": [
    {
     "name": "stdout",
     "output_type": "stream",
     "text": [
      "Determinant của A = -1.0\n",
      "Ma trận A khả nghịch.\n",
      "Mã hóa (các block sau khi nhân với A):\n",
      "[]\n",
      "Giải mã (chuỗi ban đầu):\n",
      "\n"
     ]
    }
   ],
   "source": [
    "import numpy as np\n",
    "\n",
    "# a. Chọn ma trận khả nghịch 3x3\n",
    "A = np.array([[2, 1, 1],\n",
    "              [1, 3, 2],\n",
    "              [1, 0, 0]])\n",
    "\n",
    "# Kiểm tra ma trận khả nghịch bằng cách tính định thức và nghịch đảo\n",
    "detA = np.linalg.det(A)\n",
    "print(f\"Determinant của A = {detA}\")\n",
    "\n",
    "if detA != 0:\n",
    "    print(\"Ma trận A khả nghịch.\")\n",
    "    A_inv = np.linalg.inv(A)\n",
    "else:\n",
    "    print(\"Ma trận A không khả nghịch, hãy chọn ma trận khác.\")\n",
    "    exit()\n",
    "\n",
    "# b. Nhập họ tên hoặc mã số sinh viên\n",
    "input_str = input(\"Nhập họ tên hoặc mã số sinh viên: \")\n",
    "\n",
    "# c. Mã hóa: chuyển chuỗi thành vector số (ASCII), rồi nhân với ma trận A\n",
    "# Chuyển từng ký tự thành số ASCII\n",
    "vector = np.array([ord(c) for c in input_str])\n",
    "\n",
    "# Đảm bảo chiều của vector chia hết cho 3, thêm khoảng trắng nếu cần\n",
    "while len(vector) % 3 != 0:\n",
    "    vector = np.append(vector, ord(' '))\n",
    "\n",
    "# Chia vector thành các block 3 chiều\n",
    "vector_blocks = vector.reshape(-1, 3).T  # 3 x n\n",
    "\n",
    "# Mã hóa mỗi block bằng phép nhân ma trận A\n",
    "encoded_blocks = A.dot(vector_blocks)\n",
    "\n",
    "print(\"Mã hóa (các block sau khi nhân với A):\")\n",
    "print(encoded_blocks)\n",
    "\n",
    "# d. Giải mã: nhân với ma trận nghịch đảo A_inv\n",
    "decoded_blocks = np.round(A_inv.dot(encoded_blocks)).astype(int)\n",
    "\n",
    "# Chuyển lại sang ký tự\n",
    "decoded_chars = decoded_blocks.T.flatten()\n",
    "decoded_string = ''.join([chr(c) for c in decoded_chars]).rstrip()\n",
    "\n",
    "print(\"Giải mã (chuỗi ban đầu):\")\n",
    "print(decoded_string)\n"
   ]
  }
 ],
 "metadata": {
  "kernelspec": {
   "display_name": "Python 3",
   "language": "python",
   "name": "python3"
  },
  "language_info": {
   "codemirror_mode": {
    "name": "ipython",
    "version": 3
   },
   "file_extension": ".py",
   "mimetype": "text/x-python",
   "name": "python",
   "nbconvert_exporter": "python",
   "pygments_lexer": "ipython3",
   "version": "3.8.5"
  },
  "orig_nbformat": 4,
  "vscode": {
   "interpreter": {
    "hash": "9650cb4e16cdd4a8e8e2d128bf38d875813998db22a3c986335f89e0cb4d7bb2"
   }
  }
 },
 "nbformat": 4,
 "nbformat_minor": 2
}
