{
 "cells": [
  {
   "cell_type": "code",
   "execution_count": 1,
   "metadata": {},
   "outputs": [
    {
     "name": "stdout",
     "output_type": "stream",
     "text": [
      "Phân số từ liên phân số [2, 1, 2] là: 8/3 = 2.6666666666666665\n"
     ]
    }
   ],
   "source": [
    "def continued_fraction_to_fraction(cf):\n",
    "    \"\"\"\n",
    "    cf: list các phần tử của liên phân số [a0, a1, ..., an]\n",
    "    Trả về tuple (p, q) tương ứng phân số p/q\n",
    "    Áp dụng công thức tính liên phân số:\n",
    "    p_(-2)=0, p_(-1)=1\n",
    "    q_(-2)=1, q_(-1)=0\n",
    "    p_i = a_i * p_(i-1) + p_(i-2)\n",
    "    q_i = a_i * q_(i-1) + q_(i-2)\n",
    "    \"\"\"\n",
    "    p_m2, p_m1 = 0, 1\n",
    "    q_m2, q_m1 = 1, 0\n",
    "    for a in cf:\n",
    "        p = a * p_m1 + p_m2\n",
    "        q = a * q_m1 + q_m2\n",
    "        p_m2, p_m1 = p_m1, p\n",
    "        q_m2, q_m1 = q_m1, q\n",
    "    return p, q\n",
    "\n",
    "# Ví dụ với phân số 8/3, liên phân số là [2,1,2]\n",
    "cf_example = [2, 1, 2]\n",
    "p, q = continued_fraction_to_fraction(cf_example)\n",
    "print(f\"Phân số từ liên phân số {cf_example} là: {p}/{q} = {p/q}\")\n",
    "\n",
    "# Nhập liên phân số từ người dùng\n",
    "cf_input = input(\"Nhập dãy liên phân số, cách nhau dấu cách: \")\n",
    "cf_list = list(map(int, cf_input.strip().split()))\n",
    "p, q = continued_fraction_to_fraction(cf_list)\n",
    "print(f\"Phân số tương ứng: {p}/{q} = {p/q}\")\n"
   ]
  }
 ],
 "metadata": {
  "kernelspec": {
   "display_name": "Python 3",
   "language": "python",
   "name": "python3"
  },
  "language_info": {
   "codemirror_mode": {
    "name": "ipython",
    "version": 3
   },
   "file_extension": ".py",
   "mimetype": "text/x-python",
   "name": "python",
   "nbconvert_exporter": "python",
   "pygments_lexer": "ipython3",
   "version": "3.8.5"
  },
  "orig_nbformat": 4,
  "vscode": {
   "interpreter": {
    "hash": "9650cb4e16cdd4a8e8e2d128bf38d875813998db22a3c986335f89e0cb4d7bb2"
   }
  }
 },
 "nbformat": 4,
 "nbformat_minor": 2
}
