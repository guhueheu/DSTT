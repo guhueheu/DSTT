{
 "cells": [
  {
   "cell_type": "code",
   "execution_count": 2,
   "metadata": {},
   "outputs": [
    {
     "name": "stdout",
     "output_type": "stream",
     "text": [
      "Ma trận P (ma trận chuyển vị):\n",
      "[[1. 0.]\n",
      " [0. 1.]]\n",
      "\n",
      "Ma trận L (tam giác dưới):\n",
      "[[1.   0.  ]\n",
      " [0.25 1.  ]]\n",
      "\n",
      "Ma trận U (tam giác trên):\n",
      "[[0.8   0.3  ]\n",
      " [0.    0.625]]\n",
      "\n",
      "Kiểm tra L.dot(U):\n",
      "[[0.8 0.3]\n",
      " [0.2 0.7]]\n",
      "\n",
      "Kiểm tra P.dot(L).dot(U) có bằng M không:\n",
      "True\n"
     ]
    }
   ],
   "source": [
    "import numpy as np\n",
    "from scipy import linalg\n",
    "\n",
    "# Khai báo ma trận M\n",
    "M = np.array([[0.8, 0.3],\n",
    "              [0.2, 0.7]])\n",
    "\n",
    "# Phân rã LU\n",
    "P, L, U = linalg.lu(M)\n",
    "\n",
    "# In kết quả các ma trận P, L, U\n",
    "print(\"Ma trận P (ma trận chuyển vị):\")\n",
    "print(P)\n",
    "print(\"\\nMa trận L (tam giác dưới):\")\n",
    "print(L)\n",
    "print(\"\\nMa trận U (tam giác trên):\")\n",
    "print(U)\n",
    "\n",
    "# Kiểm tra L*U có bằng ma trận gốc không (trước khi chuyển vị)\n",
    "print(\"\\nKiểm tra L.dot(U):\")\n",
    "print(L.dot(U))\n",
    "\n",
    "# Kiểm tra P*L*U có bằng ma trận gốc M không\n",
    "print(\"\\nKiểm tra P.dot(L).dot(U) có bằng M không:\")\n",
    "print(np.allclose(P.dot(L).dot(U), M))  # True nếu bằng gần đúng\n",
    "\n"
   ]
  }
 ],
 "metadata": {
  "kernelspec": {
   "display_name": "Python 3",
   "language": "python",
   "name": "python3"
  },
  "language_info": {
   "codemirror_mode": {
    "name": "ipython",
    "version": 3
   },
   "file_extension": ".py",
   "mimetype": "text/x-python",
   "name": "python",
   "nbconvert_exporter": "python",
   "pygments_lexer": "ipython3",
   "version": "3.8.5"
  },
  "orig_nbformat": 4,
  "vscode": {
   "interpreter": {
    "hash": "9650cb4e16cdd4a8e8e2d128bf38d875813998db22a3c986335f89e0cb4d7bb2"
   }
  }
 },
 "nbformat": 4,
 "nbformat_minor": 2
}
